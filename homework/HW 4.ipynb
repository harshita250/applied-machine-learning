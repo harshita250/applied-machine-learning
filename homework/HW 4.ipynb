{
 "cells": [
  {
   "cell_type": "markdown",
   "id": "8e9c1f71",
   "metadata": {},
   "source": [
    "# Homework 4 : Harshita Mahesh Hiremath"
   ]
  },
  {
   "cell_type": "code",
   "execution_count": 1,
   "id": "7a27f695",
   "metadata": {},
   "outputs": [],
   "source": [
    "import numpy as np\n",
    "import gzip\n",
    "import struct\n",
    "import matplotlib.pyplot as plt"
   ]
  },
  {
   "cell_type": "code",
   "execution_count": 2,
   "id": "34781867",
   "metadata": {},
   "outputs": [],
   "source": [
    "#Step 1:(a)\n",
    "def read_idx(filename):\n",
    "    with gzip.open(filename,'rb') as f:\n",
    "        zero,data_type, dims = struct.unpack('>HBB',f.read(4))\n",
    "        shape = tuple(struct.unpack('>I',f.read(4))[0] for d in range(dims))\n",
    "        return np.frombuffer(f.read(),dtype=np.uint8).reshape(shape)"
   ]
  },
  {
   "cell_type": "code",
   "execution_count": 3,
   "id": "20c3f0a1",
   "metadata": {},
   "outputs": [],
   "source": [
    "images = read_idx('train-images-idx3-ubyte.gz')\n",
    "label = read_idx('train-labels-idx1-ubyte.gz')\n",
    "test_images = read_idx('t10k-images-idx3-ubyte.gz')\n",
    "test_label = read_idx('t10k-labels-idx1-ubyte.gz')"
   ]
  },
  {
   "cell_type": "code",
   "execution_count": 4,
   "id": "4baeefa5",
   "metadata": {},
   "outputs": [
    {
     "data": {
      "image/png": "[encoded data removed]",
      "text/plain": [
       "<Figure size 640x480 with 1 Axes>"
      ]
     },
     "metadata": {},
     "output_type": "display_data"
    }
   ],
   "source": [
    "#Step 1:(b)\n",
    "random_idx = np.random.choice(len(images))\n",
    "plt.imshow(images[random_idx],cmap='gray')\n",
    "plt.title(f'Label {label[random_idx]}')\n",
    "plt.show()"
   ]
  },
  {
   "cell_type": "code",
   "execution_count": 5,
   "id": "d729766a",
   "metadata": {},
   "outputs": [],
   "source": [
    "#Step 2\n",
    "\n",
    "#np.max(images)\n",
    "normalized_images = images / 255.0\n",
    "#np.min(normalized_images)\n",
    "#np.max(normalized_images)\n",
    "\n",
    "one_hot_labels = np.eye(10)[label]\n",
    "#label\n",
    "#one_hot_labels[2]\n",
    "#normalized_images"
   ]
  },
  {
   "cell_type": "code",
   "execution_count": 6,
   "id": "fa8620d7",
   "metadata": {},
   "outputs": [],
   "source": [
    "#Step 3\n",
    "\n",
    "# Initialize weights and biases\n",
    "def initialize_parameters(input_size, hidden_layer1_size, hidden_layer2_size, output_size):\n",
    "    \n",
    "    #W1 = np.random.randn(hidden_layer1_size, input_size) * 0.01\n",
    "    W1 = np.random.randn(hidden_layer1_size, input_size) * np.sqrt(2/input_size)\n",
    "    b1 = np.zeros((hidden_layer1_size, 1))\n",
    "\n",
    "    W2 = np.random.randn(hidden_layer2_size, hidden_layer1_size)  * np.sqrt(2/hidden_layer1_size)\n",
    "    b2 = np.zeros((hidden_layer2_size, 1))\n",
    "\n",
    "    W3 = np.random.randn(output_size, hidden_layer2_size)  * np.sqrt(2/hidden_layer2_size)\n",
    "    b3 = np.zeros((output_size, 1))\n",
    "\n",
    "    return {'W1': W1, 'b1': b1, 'W2': W2, 'b2': b2, 'W3': W3, 'b3': b3}\n",
    "\n",
    "# Set the random seed\n",
    "np.random.seed(695)\n",
    "\n",
    "# Input size\n",
    "input_size = 784\n",
    "\n",
    "# Hidden layer sizes\n",
    "hidden_layer1_size = 128\n",
    "hidden_layer2_size = 64\n",
    "\n",
    "# Output layer size\n",
    "output_size = 10\n",
    "\n",
    "# Initialize parameters\n",
    "parameters = initialize_parameters(input_size, hidden_layer1_size, hidden_layer2_size, output_size)\n",
    "#print(parameters)"
   ]
  },
  {
   "cell_type": "code",
   "execution_count": 7,
   "id": "4ddfaaf2",
   "metadata": {},
   "outputs": [],
   "source": [
    "#Step 4\n",
    "def sigmoid(z):\n",
    "    return 1 / (1 + np.exp(-z))\n",
    "\n",
    "def softmax(z):\n",
    "    exp_z = np.exp(z - np.max(z, axis=1, keepdims=True)) # Subtracting max(z) for numerical stability\n",
    "    return exp_z / (np.sum(exp_z, axis=0, keepdims=True) + 1e-12)\n",
    "\n",
    "def batch_normalize(x):\n",
    "    mean = np.mean(x, axis=0)\n",
    "    std = np.std(x, axis=0)\n",
    "    return (x - mean) / (std + 1e-8)\n",
    "\n",
    "def feed_forward(x, parameters):\n",
    "    # Extract parameters\n",
    "    W1, b1, W2, b2, W3, b3 = parameters.values()\n",
    "\n",
    "    # First hidden layer\n",
    "    z1 = np.dot(x, W1.T) + b1.T  # Transpose W1\n",
    "    a1 = sigmoid(z1)\n",
    "\n",
    "    # Second hidden layer\n",
    "    z2 = np.dot(a1, W2.T) + b2.T  # Transpose W2\n",
    "    a2 = sigmoid(z2)\n",
    "\n",
    "    # Output layer\n",
    "    z3 = np.dot(a2, W3.T) + b3.T  # Transpose W3\n",
    "    output = softmax(z3)\n",
    "\n",
    "    return output"
   ]
  },
  {
   "cell_type": "code",
   "execution_count": 8,
   "id": "1b90937f",
   "metadata": {},
   "outputs": [],
   "source": [
    "def categorical_cross_entropy_loss(y_true, y_pred):\n",
    "    n_samples = y_true.shape[0]\n",
    "    y_pred_clipped = np.clip(y_pred,1e-12,1 - 1e-12)\n",
    "    return -np.sum(y_true*np.log(y_pred_clipped))/n_samples\n",
    "\n",
    "#categorical_cross_entropy_loss(one_hot_labels, y_pred)"
   ]
  },
  {
   "cell_type": "code",
   "execution_count": 9,
   "id": "dd1a361d",
   "metadata": {},
   "outputs": [],
   "source": [
    "def sigmoid_derivative(x):\n",
    "    \n",
    "    return sigmoid(x) * (1 - sigmoid(x))\n",
    "\n",
    "def backward_pass(x, y_true, parameters, output):\n",
    " \n",
    "    W1, b1, W2, b2, W3, b3 = parameters.values()\n",
    "\n",
    "    # Forward pass\n",
    "    z1 = np.dot(x, W1.T) + b1.T\n",
    "    a1 = sigmoid(z1)\n",
    "\n",
    "    z2 = np.dot(a1, W2.T) + b2.T\n",
    "    a2 = sigmoid(z2)\n",
    "\n",
    "    z3 = np.dot(a2, W3.T) + b3.T\n",
    "    output = softmax(z3)\n",
    "\n",
    "    # Calculate gradients for the output layer\n",
    "    dL_dz3 = output - y_true\n",
    "    dL_dW3 = np.dot(dL_dz3.T, a2)  # Transpose a2\n",
    "    dL_db3 = np.sum(dL_dz3, axis=0, keepdims=True)\n",
    "\n",
    "    # Calculate gradients for the second hidden layer\n",
    "    dL_da2 = np.dot(dL_dz3, W3)\n",
    "    dL_dz2 = dL_da2 * sigmoid_derivative(z2)\n",
    "    dL_dW2 = np.dot(dL_dz2.T, a1)  # Transpose a1\n",
    "    dL_db2 = np.sum(dL_dz2, axis=0, keepdims=True)\n",
    "\n",
    "    # Calculate gradients for the first hidden layer\n",
    "    dL_da1 = np.dot(dL_dz2, W2)\n",
    "    dL_dz1 = dL_da1 * sigmoid_derivative(z1)\n",
    "    dL_dW1 = np.dot(dL_dz1.T, x)  # Transpose x\n",
    "    dL_db1 = np.sum(dL_dz1, axis=0, keepdims=True)\n",
    "\n",
    "    gradients = {'dL_dW1': dL_dW1, 'dL_db1': dL_db1, 'dL_dW2': dL_dW2, 'dL_db2': dL_db2, 'dL_dW3': dL_dW3, 'dL_db3': dL_db3}\n",
    "    return gradients"
   ]
  },
  {
   "cell_type": "code",
   "execution_count": 10,
   "id": "2b507a8b",
   "metadata": {},
   "outputs": [
    {
     "name": "stdout",
     "output_type": "stream",
     "text": [
      "Epoch 1/100, Loss: 10.985291242691245\n",
      "Epoch 2/100, Loss: 11.00258195445173\n",
      "Epoch 3/100, Loss: 11.00271561143123\n",
      "Epoch 4/100, Loss: 11.002538390025393\n",
      "Epoch 5/100, Loss: 11.002440457685594\n",
      "Epoch 6/100, Loss: 11.00362663327112\n",
      "Epoch 7/100, Loss: 11.022885475772846\n",
      "Epoch 8/100, Loss: 11.132302358893222\n",
      "Epoch 9/100, Loss: 11.316127288654616\n",
      "Epoch 10/100, Loss: 11.49879333158795\n",
      "Epoch 11/100, Loss: 11.58213457768141\n",
      "Epoch 12/100, Loss: 11.733324874542086\n",
      "Epoch 13/100, Loss: 11.871434894367589\n",
      "Epoch 14/100, Loss: 12.000996009208764\n",
      "Epoch 15/100, Loss: 12.126885506352506\n",
      "Epoch 16/100, Loss: 12.266656782511156\n",
      "Epoch 17/100, Loss: 12.39215726213757\n",
      "Epoch 18/100, Loss: 12.518057402399279\n",
      "Epoch 19/100, Loss: 12.659343613639958\n",
      "Epoch 20/100, Loss: 12.715901777677887\n",
      "Epoch 21/100, Loss: 12.74407768990741\n",
      "Epoch 22/100, Loss: 12.800671312397153\n",
      "Epoch 23/100, Loss: 12.858620628200738\n",
      "Epoch 24/100, Loss: 12.916658821970662\n",
      "Epoch 25/100, Loss: 12.973640118464983\n",
      "Epoch 26/100, Loss: 13.028679011075331\n",
      "Epoch 27/100, Loss: 13.081170681390574\n",
      "Epoch 28/100, Loss: 13.130724212278649\n",
      "Epoch 29/100, Loss: 13.177127110188858\n",
      "Epoch 30/100, Loss: 13.220296067188494\n",
      "Epoch 31/100, Loss: 13.240143488703561\n",
      "Epoch 32/100, Loss: 13.27651043118113\n",
      "Epoch 33/100, Loss: 13.309926897877391\n",
      "Epoch 34/100, Loss: 13.340542167621956\n",
      "Epoch 35/100, Loss: 13.3685213675065\n",
      "Epoch 36/100, Loss: 13.39403795313343\n",
      "Epoch 37/100, Loss: 13.41726836526439\n",
      "Epoch 38/100, Loss: 13.43838632551576\n",
      "Epoch 39/100, Loss: 13.457559856322629\n",
      "Epoch 40/100, Loss: 13.4749490409392\n",
      "Epoch 41/100, Loss: 13.482814672688013\n",
      "Epoch 42/100, Loss: 13.497035437803099\n",
      "Epoch 43/100, Loss: 13.509902209853333\n",
      "Epoch 44/100, Loss: 13.521536774733049\n",
      "Epoch 45/100, Loss: 13.532051541563032\n",
      "Epoch 46/100, Loss: 13.541549823157435\n",
      "Epoch 47/100, Loss: 13.550126369044236\n",
      "Epoch 48/100, Loss: 13.557867830499873\n",
      "Epoch 49/100, Loss: 13.564853290794355\n",
      "Epoch 50/100, Loss: 13.571154811535045\n",
      "Epoch 51/100, Loss: 13.573994988178415\n",
      "Epoch 52/100, Loss: 13.579114283428451\n",
      "Epoch 53/100, Loss: 13.583729308833476\n",
      "Epoch 54/100, Loss: 13.587889010653573\n",
      "Epoch 55/100, Loss: 13.5916377217944\n",
      "Epoch 56/100, Loss: 13.595015578623048\n",
      "Epoch 57/100, Loss: 13.598058898827372\n",
      "Epoch 58/100, Loss: 13.600800507119226\n",
      "Epoch 59/100, Loss: 13.603270072092878\n",
      "Epoch 60/100, Loss: 13.605494393480061\n",
      "Epoch 61/100, Loss: 13.606495865271928\n",
      "Epoch 62/100, Loss: 13.608299339456728\n",
      "Epoch 63/100, Loss: 13.609923370258002\n",
      "Epoch 64/100, Loss: 13.61138573011107\n",
      "Epoch 65/100, Loss: 13.61270244652118\n",
      "Epoch 66/100, Loss: 13.613887969933698\n",
      "Epoch 67/100, Loss: 13.614955328080894\n",
      "Epoch 68/100, Loss: 13.615916264188686\n",
      "Epoch 69/100, Loss: 13.616781360447284\n",
      "Epoch 70/100, Loss: 13.617560152404351\n",
      "Epoch 71/100, Loss: 13.617910672226802\n",
      "Epoch 72/100, Loss: 13.61854170709137\n",
      "Epoch 73/100, Loss: 13.619109747390183\n",
      "Epoch 74/100, Loss: 13.619621071823019\n",
      "Epoch 75/100, Loss: 13.620081335235461\n",
      "Epoch 76/100, Loss: 13.620495630126392\n",
      "Epoch 77/100, Loss: 13.62086854230879\n",
      "Epoch 78/100, Loss: 13.621204201207755\n",
      "Epoch 79/100, Loss: 13.621506324910495\n",
      "Epoch 80/100, Loss: 13.621778261087545\n",
      "Epoch 81/100, Loss: 13.621900640047194\n",
      "Epoch 82/100, Loss: 13.622120934183316\n",
      "Epoch 83/100, Loss: 13.622319212105866\n",
      "Epoch 84/100, Loss: 13.62249767292425\n",
      "Epoch 85/100, Loss: 13.622658296313816\n",
      "Epoch 86/100, Loss: 13.622802864378974\n",
      "Epoch 87/100, Loss: 13.622932981317007\n",
      "Epoch 88/100, Loss: 13.623050091154205\n",
      "Epoch 89/100, Loss: 13.62315549373608\n",
      "Epoch 90/100, Loss: 13.6232503590768\n",
      "Epoch 91/100, Loss: 13.62329304941166\n",
      "Epoch 92/100, Loss: 13.623369893470104\n",
      "Epoch 93/100, Loss: 13.623439054728141\n",
      "Epoch 94/100, Loss: 13.623501301157598\n",
      "Epoch 95/100, Loss: 13.623557323996415\n",
      "Epoch 96/100, Loss: 13.623607745403257\n",
      "Epoch 97/100, Loss: 13.623653125358612\n",
      "Epoch 98/100, Loss: 13.623693967877124\n",
      "Epoch 99/100, Loss: 13.623730726596992\n",
      "Epoch 100/100, Loss: 13.623763809811498\n"
     ]
    }
   ],
   "source": [
    "# Hyperparameters\n",
    "initial_learning_rate = 0.0001\n",
    "decay_rate = 0.9\n",
    "batch_size = 128\n",
    "epochs = 100\n",
    "X = normalized_images\n",
    "X = X.reshape(X.shape[0], -1)\n",
    "y_true = one_hot_labels\n",
    "\n",
    "# Training loop\n",
    "for epoch in range(epochs):\n",
    "    # Shuffle the training data for each epoch (assuming X and y_true are shuffled accordingly)\n",
    "    learning_rate = initial_learning_rate * (decay_rate ** epoch)\n",
    "    if epoch % 10 == 0:\n",
    "        learning_rate /= 2\n",
    "    permutation = np.random.permutation(X.shape[0])\n",
    "    X_shuffled = X[permutation, :]\n",
    "    y_true_shuffled = y_true[permutation, :]\n",
    "\n",
    "    # Mini-batch loop\n",
    "    for i in range(0, X.shape[0], batch_size):\n",
    "        # Get the mini-batch\n",
    "        mini_batch_X = X_shuffled[i:i+batch_size, :]\n",
    "        mini_batch_y_true = y_true_shuffled[i:i+batch_size, :]\n",
    "\n",
    "        # Forward pass\n",
    "        output = feed_forward(mini_batch_X, parameters)\n",
    "\n",
    "        # Backward pass\n",
    "        gradients = backward_pass(mini_batch_X, mini_batch_y_true, parameters, output)\n",
    "\n",
    "        # Update parameters using gradient descent\n",
    "        for param in parameters:\n",
    "            parameters[param] -= learning_rate * gradients[f'dL_d{param}'].reshape(parameters[param].shape)\n",
    "\n",
    "\n",
    "    # Calculate and print the training loss for the current epoch\n",
    "    output = feed_forward(X, parameters)\n",
    "    loss = categorical_cross_entropy_loss(y_true, output)\n",
    "    \n",
    "    # Print additional information (e.g., training accuracy, validation loss)\n",
    "    print(f'Epoch {epoch + 1}/{epochs}, Loss: {loss}')"
   ]
  },
  {
   "cell_type": "code",
   "execution_count": 11,
   "id": "1a259a90",
   "metadata": {},
   "outputs": [
    {
     "name": "stdout",
     "output_type": "stream",
     "text": [
      "Accuracy on the test dataset: 11.35%\n"
     ]
    },
    {
     "name": "stderr",
     "output_type": "stream",
     "text": [
      "/var/folders/sg/3tj_k0kn1315z20ckp9dznph0000gn/T/ipykernel_7293/3688818161.py:3: RuntimeWarning: overflow encountered in exp\n",
      "  return 1 / (1 + np.exp(-z))\n"
     ]
    }
   ],
   "source": [
    "# Assuming 'test_images' is your test dataset and 'test_label' is the corresponding labels\n",
    "# 'parameters' is a dictionary containing trained weights and biases\n",
    "\n",
    "# Reshape the test data\n",
    "X_test = test_images.reshape(test_images.shape[0], -1)\n",
    "\n",
    "# Forward pass to get predictions\n",
    "y_pred = feed_forward(X_test, parameters)\n",
    "\n",
    "# Convert predicted probabilities to one-hot encoded labels\n",
    "y_pred_labels = np.argmax(y_pred, axis=1)\n",
    "\n",
    "# Compare predicted labels with true labels\n",
    "accuracy = np.mean(y_pred_labels == test_label)\n",
    "print(f\"Accuracy on the test dataset: {accuracy * 100:.2f}%\")"
   ]
  },
  {
   "cell_type": "code",
   "execution_count": 12,
   "id": "ceb43da4",
   "metadata": {},
   "outputs": [
    {
     "data": {
      "image/png": "[encoded data removed]",
      "text/plain": [
       "<Figure size 640x480 with 1 Axes>"
      ]
     },
     "metadata": {},
     "output_type": "display_data"
    },
    {
     "data": {
      "image/png": "[encoded data removed]",
      "text/plain": [
       "<Figure size 640x480 with 1 Axes>"
      ]
     },
     "metadata": {},
     "output_type": "display_data"
    },
    {
     "data": {
      "image/png": "[encoded data removed]",
      "text/plain": [
       "<Figure size 640x480 with 1 Axes>"
      ]
     },
     "metadata": {},
     "output_type": "display_data"
    },
    {
     "data": {
      "image/png": "[encoded data removed]",
      "text/plain": [
       "<Figure size 640x480 with 1 Axes>"
      ]
     },
     "metadata": {},
     "output_type": "display_data"
    },
    {
     "data": {
      "image/png": "[encoded data removed]",
      "text/plain": [
       "<Figure size 640x480 with 1 Axes>"
      ]
     },
     "metadata": {},
     "output_type": "display_data"
    }
   ],
   "source": [
    "# Find misclassified indices\n",
    "misclassified_indices = np.where(y_pred_labels != test_label)[0]\n",
    "\n",
    "# Plot some of the misclassified images\n",
    "num_misclassified_to_plot = 5  # Choose the number of misclassified images to plot\n",
    "\n",
    "for i in range(min(num_misclassified_to_plot, len(misclassified_indices))):\n",
    "    index = misclassified_indices[i]\n",
    "    plt.imshow(test_images[index], cmap='gray')\n",
    "    plt.title(f'True Label: {test_label[index]}, Predicted Label: {y_pred_labels[index]}')\n",
    "    plt.show()"
   ]
  }
 ],
 "metadata": {
  "kernelspec": {
   "display_name": "Python 3 (ipykernel)",
   "language": "python",
   "name": "python3"
  },
  "language_info": {
   "codemirror_mode": {
    "name": "ipython",
    "version": 3
   },
   "file_extension": ".py",
   "mimetype": "text/x-python",
   "name": "python",
   "nbconvert_exporter": "python",
   "pygments_lexer": "ipython3",
   "version": "3.11.4"
  }
 },
 "nbformat": 4,
 "nbformat_minor": 5
}
