{
 "cells": [
  {
   "cell_type": "code",
   "execution_count": 1,
   "id": "c0443d16",
   "metadata": {},
   "outputs": [],
   "source": [
    "#Importing all the necessary libraries\n",
    "import numpy as np\n",
    "import pandas as pd\n",
    "import gzip\n",
    "import struct\n",
    "import os\n",
    "import matplotlib.pyplot as plt\n",
    "import seaborn as sns\n",
    "def read_idx(MNIST):\n",
    "    with gzip.open(MNIST, 'rb') as f:\n",
    "        zero, data_type, dims= struct.unpack('>HBB', f.read(4))\n",
    "        shape = tuple(struct.unpack('>I',f.read(4)) [0] for d in range(dims))\n",
    "        return np.frombuffer(f.read(), dtype=np.uint8).reshape(shape)"
   ]
  },
  {
   "cell_type": "markdown",
   "id": "f1a712ff",
   "metadata": {},
   "source": [
    "# Step 1: Data Acquisition and Visualization"
   ]
  },
  {
   "cell_type": "code",
   "execution_count": 2,
   "id": "b1410958",
   "metadata": {},
   "outputs": [],
   "source": [
    "#Specifying the folder path\n",
    "folder_path = 'mnist'\n",
    "\n",
    "#Constructing the full file paths for the MNIST dataset\n",
    "train_images_path = os.path.join(folder_path, 'train-images-idx3-ubyte.gz')\n",
    "train_labels_path = os.path.join(folder_path, 'train-labels-idx1-ubyte.gz')\n",
    "test_images_path = os.path.join(folder_path, 't10k-images-idx3-ubyte.gz')\n",
    "test_labels_path = os.path.join(folder_path, 't10k-labels-idx1-ubyte.gz')"
   ]
  },
  {
   "cell_type": "code",
   "execution_count": 3,
   "id": "c3e7fe12",
   "metadata": {},
   "outputs": [],
   "source": [
    "#Reading the datasets using the provided function\n",
    "train_images = read_idx(train_images_path)\n",
    "train_labels = read_idx(train_labels_path)\n",
    "test_images = read_idx(test_images_path)\n",
    "test_labels = read_idx(test_labels_path)"
   ]
  },
  {
   "cell_type": "code",
   "execution_count": 4,
   "id": "884f8a10",
   "metadata": {},
   "outputs": [
    {
     "data": {
      "text/plain": [
       "array([7, 2, 1, ..., 4, 5, 6], dtype=uint8)"
      ]
     },
     "execution_count": 4,
     "metadata": {},
     "output_type": "execute_result"
    }
   ],
   "source": [
    "test_labels"
   ]
  },
  {
   "cell_type": "code",
   "execution_count": 5,
   "id": "8c9b1a57",
   "metadata": {},
   "outputs": [
    {
     "name": "stdout",
     "output_type": "stream",
     "text": [
      "Train Images Shape: (60000, 28, 28)\n",
      "Train Labels Shape: (60000,)\n",
      "Test Images Shape: (10000, 28, 28)\n",
      "Test Labels Shape: (10000,)\n"
     ]
    }
   ],
   "source": [
    "#Printing the shape of the training images array\n",
    "print(f'Train Images Shape: {train_images.shape}')\n",
    "#Printing the shape of the training labels array\n",
    "print(f'Train Labels Shape: {train_labels.shape}')\n",
    "#Printing the shape of the testing images array\n",
    "print(f'Test Images Shape: {test_images.shape}')\n",
    "#Printing the shape of the testing labels array\n",
    "print(f'Test Labels Shape: {test_labels.shape}')"
   ]
  },
  {
   "cell_type": "code",
   "execution_count": 6,
   "id": "c5bffe97",
   "metadata": {},
   "outputs": [],
   "source": [
    "#Generating a random index within the range of indices for the test_images array\n",
    "random_index = np.random.randint(0, len(test_images))"
   ]
  },
  {
   "cell_type": "code",
   "execution_count": 7,
   "id": "ce3ce091",
   "metadata": {},
   "outputs": [
    {
     "data": {
      "image/png": "[encoded data removed]",
      "text/plain": [
       "<Figure size 640x480 with 1 Axes>"
      ]
     },
     "metadata": {},
     "output_type": "display_data"
    }
   ],
   "source": [
    "#Displaying a visual representation of a random sample from the test dataset using imshow\n",
    "plt.imshow(test_images[random_index], cmap='binary')\n",
    "plt.title(f'Label: {test_labels[random_index]}')\n",
    "\n",
    "#Displaying the plot\n",
    "plt.show()"
   ]
  },
  {
   "cell_type": "code",
   "execution_count": 8,
   "id": "60808808",
   "metadata": {},
   "outputs": [],
   "source": [
    "#Generating a random index within the range of indices for the train_images array\n",
    "random_index = np.random.randint(0, len(train_images))"
   ]
  },
  {
   "cell_type": "code",
   "execution_count": 9,
   "id": "623140a1",
   "metadata": {},
   "outputs": [
    {
     "data": {
      "image/png": "[encoded data removed]",
      "text/plain": [
       "<Figure size 640x480 with 1 Axes>"
      ]
     },
     "metadata": {},
     "output_type": "display_data"
    }
   ],
   "source": [
    "#Displaying a visual representation of a random sample from the train dataset using imshow\n",
    "plt.imshow(train_images[random_index], cmap='binary')\n",
    "plt.title(f'Label: {train_labels[random_index]}')\n",
    "\n",
    "#Displaying the plot\n",
    "plt.show()"
   ]
  },
  {
   "cell_type": "markdown",
   "id": "1eeab511",
   "metadata": {},
   "source": [
    "# Step 2: Data preprocessing"
   ]
  },
  {
   "cell_type": "code",
   "execution_count": 10,
   "id": "8d8a882f",
   "metadata": {},
   "outputs": [],
   "source": [
    "#Normalizing the pixel values to be between 0 and 1\n",
    "normalized_images = train_images / 255.0"
   ]
  },
  {
   "cell_type": "code",
   "execution_count": 11,
   "id": "7923a7f9",
   "metadata": {},
   "outputs": [],
   "source": [
    "#Selecting a random index\n",
    "random_index = np.random.randint(0, len(normalized_images))"
   ]
  },
  {
   "cell_type": "code",
   "execution_count": 12,
   "id": "849b90e2",
   "metadata": {},
   "outputs": [
    {
     "data": {
      "image/png": "[encoded data removed]",
      "text/plain": [
       "<Figure size 640x480 with 1 Axes>"
      ]
     },
     "metadata": {},
     "output_type": "display_data"
    }
   ],
   "source": [
    "#Displaying a visual representation of a random sample from the normalized images using imshow\n",
    "plt.imshow(normalized_images[random_index], cmap='binary', vmin=0, vmax=1)\n",
    "plt.title(f'Label: {train_labels[random_index]}')\n",
    "\n",
    "#Displaying the plot\n",
    "plt.show()"
   ]
  },
  {
   "cell_type": "code",
   "execution_count": 13,
   "id": "e5ff97e8",
   "metadata": {},
   "outputs": [],
   "source": [
    "#Conerting the labels from categorical data into numerical value using one-hot encoding\n",
    "num_classes = 10  \n",
    "\n",
    "#Using the eye function in numpy\n",
    "one_hot_labels = np.eye(num_classes)[train_labels]"
   ]
  },
  {
   "cell_type": "code",
   "execution_count": 14,
   "id": "abee3345",
   "metadata": {},
   "outputs": [
    {
     "data": {
      "text/plain": [
       "array([[1., 0., 0., ..., 0., 0., 0.],\n",
       "       [0., 1., 0., ..., 0., 0., 0.],\n",
       "       [0., 0., 1., ..., 0., 0., 0.],\n",
       "       ...,\n",
       "       [0., 0., 0., ..., 1., 0., 0.],\n",
       "       [0., 0., 0., ..., 0., 1., 0.],\n",
       "       [0., 0., 0., ..., 0., 0., 1.]])"
      ]
     },
     "execution_count": 14,
     "metadata": {},
     "output_type": "execute_result"
    }
   ],
   "source": [
    "np.eye(random_index)"
   ]
  },
  {
   "cell_type": "code",
   "execution_count": 15,
   "id": "0e1c5dd4",
   "metadata": {},
   "outputs": [
    {
     "data": {
      "image/png": "[encoded data removed]",
      "text/plain": [
       "<Figure size 640x480 with 1 Axes>"
      ]
     },
     "metadata": {},
     "output_type": "display_data"
    }
   ],
   "source": [
    "#Displaying a visual representation of a random sample from the normalized images using imshow\n",
    "plt.imshow(normalized_images[random_index], cmap='binary', vmin=0, vmax=1)\n",
    "plt.title(f'Original Label: {train_labels[random_index]}\\nOne-Hot Encoded Label: {one_hot_labels[random_index]}')\n",
    "\n",
    "#Displaying the plot\n",
    "plt.show()"
   ]
  },
  {
   "cell_type": "markdown",
   "id": "26aa9b0d",
   "metadata": {},
   "source": [
    "# Step 3: Network Initialization"
   ]
  },
  {
   "cell_type": "markdown",
   "id": "7b82f8d0",
   "metadata": {},
   "source": [
    "Sigmoid function"
   ]
  },
  {
   "cell_type": "code",
   "execution_count": 16,
   "id": "fc0b71ed",
   "metadata": {},
   "outputs": [],
   "source": [
    "#Defining a sigmoid function that applies the logistic sigmoid activation to the input 'x'\n",
    "def sigmoid(x):\n",
    "    return 1 / (1 + np.exp(-x))"
   ]
  },
  {
   "cell_type": "markdown",
   "id": "51a31111",
   "metadata": {},
   "source": [
    "Sigmoid derivative"
   ]
  },
  {
   "cell_type": "code",
   "execution_count": 17,
   "id": "415b42b8",
   "metadata": {},
   "outputs": [],
   "source": [
    "#Defining the derivative of the sigmoid function\n",
    "def sigmoid_derivative(x):\n",
    "    return sigmoid(x) * (1 - sigmoid(x))"
   ]
  },
  {
   "cell_type": "markdown",
   "id": "0637e036",
   "metadata": {},
   "source": [
    "Softmax function"
   ]
  },
  {
   "cell_type": "code",
   "execution_count": 18,
   "id": "082411f7",
   "metadata": {},
   "outputs": [],
   "source": [
    "#Defining the softmax function\n",
    "def softmax(x):\n",
    "    exp_x = np.exp(x - np.max(x, axis=-1, keepdims=True)) \n",
    "    return exp_x / exp_x.sum(axis=-1, keepdims=True)"
   ]
  },
  {
   "cell_type": "markdown",
   "id": "00108169",
   "metadata": {},
   "source": [
    "Initialize all the parameters in neural network uniformly. In this network, the input size is 784\n",
    "dimensions (each input is a 28x28 image, so you have to flatten the data from 2D to 1D). For the\n",
    "two linear hidden layers, we have 128 and 64 neurons respectively. For the output layer, its size\n",
    "will be 10 since there are 10 classes (0-9) in MNIST. To finish this step, you need to initialize the\n",
    "weights and bias in random with a pre-set random seed using Numpy. Please set the seed value\n",
    "= 695. "
   ]
  },
  {
   "cell_type": "code",
   "execution_count": 19,
   "id": "3bfda4a9",
   "metadata": {},
   "outputs": [],
   "source": [
    "#Setting the random seed\n",
    "np.random.seed(695)\n",
    "\n",
    "def initialize_parameters(input_size, hidden_sizes, output_size):\n",
    "    parameters = {}\n",
    "    \n",
    "    #Initializing weights and biases for the first hidden layer\n",
    "    parameters['W1'] = np.random.randn(hidden_sizes[0], input_size) * 0.01\n",
    "    parameters['b1'] = np.zeros((hidden_sizes[0], 1))\n",
    "    \n",
    "    #Initializing weights and biases for the second hidden layer\n",
    "    parameters['W2'] = np.random.randn(hidden_sizes[1], hidden_sizes[0]) * 0.01\n",
    "    parameters['b2'] = np.zeros((hidden_sizes[1], 1))\n",
    "    \n",
    "    #Initializing weights and biases for the output layer\n",
    "    parameters['W3'] = np.random.randn(output_size, hidden_sizes[1]) * 0.01\n",
    "    parameters['b3'] = np.zeros((output_size, 1))\n",
    "    \n",
    "    return parameters"
   ]
  },
  {
   "cell_type": "code",
   "execution_count": 20,
   "id": "de3add2e",
   "metadata": {},
   "outputs": [],
   "source": [
    "#Defining the network architecture\n",
    "input_size = 784\n",
    "hidden_sizes = [128, 64]\n",
    "output_size = 10\n",
    "\n",
    "#Initializing parameters\n",
    "parameters = initialize_parameters(input_size, hidden_sizes, output_size)"
   ]
  },
  {
   "cell_type": "code",
   "execution_count": 21,
   "id": "3be96c51",
   "metadata": {},
   "outputs": [
    {
     "name": "stdout",
     "output_type": "stream",
     "text": [
      "W1: (128, 784)\n",
      "b1: (128, 1)\n",
      "W2: (64, 128)\n",
      "b2: (64, 1)\n",
      "W3: (10, 64)\n",
      "b3: (10, 1)\n"
     ]
    }
   ],
   "source": [
    "#Printing the initialized parameters\n",
    "for key, value in parameters.items():\n",
    "    print(f\"{key}: {value.shape}\")"
   ]
  },
  {
   "cell_type": "markdown",
   "id": "c9c69924",
   "metadata": {},
   "source": [
    "# Step 4: Feed Forward"
   ]
  },
  {
   "cell_type": "code",
   "execution_count": 22,
   "id": "30856ff0",
   "metadata": {},
   "outputs": [],
   "source": [
    "def feed_forward(x, parameters):\n",
    "    #Extracting the parameters\n",
    "    W1, b1 = parameters['W1'], parameters['b1']\n",
    "    W2, b2 = parameters['W2'], parameters['b2']\n",
    "    W3, b3 = parameters['W3'], parameters['b3']\n",
    "    \n",
    "    #First hidden layer\n",
    "    z1 = np.dot(W1, x) + b1\n",
    "    a1 = sigmoid(z1)\n",
    "    \n",
    "    #Second hidden layer\n",
    "    z2 = np.dot(W2, a1) + b2\n",
    "    a2 = sigmoid(z2)\n",
    "    \n",
    "    #Output layer\n",
    "    z3 = np.dot(W3, a2) + b3\n",
    "    a3 = sigmoid(z3)\n",
    "    \n",
    "    return a3"
   ]
  },
  {
   "cell_type": "code",
   "execution_count": 23,
   "id": "23cd9172",
   "metadata": {},
   "outputs": [
    {
     "name": "stdout",
     "output_type": "stream",
     "text": [
      "Output of the network: [[0.49347801]\n",
      " [0.5192416 ]\n",
      " [0.51480302]\n",
      " [0.50677112]\n",
      " [0.51882295]\n",
      " [0.48895119]\n",
      " [0.5059453 ]\n",
      " [0.49270489]\n",
      " [0.51303703]\n",
      " [0.4945005 ]]\n"
     ]
    }
   ],
   "source": [
    "#Generating a random input vector with 784 features using a normal distribution\n",
    "input_vector = np.random.randn(784, 1)  \n",
    "output = feed_forward(input_vector, parameters)\n",
    "\n",
    "#Printing the output of the network after the feedforward pass\n",
    "print(\"Output of the network:\", output)"
   ]
  },
  {
   "cell_type": "markdown",
   "id": "14784dba",
   "metadata": {},
   "source": [
    "Back Propagation"
   ]
  },
  {
   "cell_type": "code",
   "execution_count": 24,
   "id": "22fc6c83",
   "metadata": {},
   "outputs": [],
   "source": [
    "def categorical_crossentropy(y_true, y_pred):\n",
    "    \n",
    "    #Get the number of samples in the input data\n",
    "    n_samples = y_true.shape[0]\n",
    "    \n",
    "    #Clipping the predicted values to avoid numerical instability issues\n",
    "    y_pred_clipped = np.clip(y_pred, 1e-12, 1 - 1e-12)\n",
    "    return -np.sum(y_true * np.log(y_pred_clipped)) / n_samples"
   ]
  },
  {
   "cell_type": "code",
   "execution_count": 25,
   "id": "a94ed47c",
   "metadata": {},
   "outputs": [
    {
     "name": "stdout",
     "output_type": "stream",
     "text": [
      "Categorical Cross-Entropy Loss: 0.0679695811140483\n"
     ]
    }
   ],
   "source": [
    "#Performing feedforward to get predictions\n",
    "output = feed_forward(input_vector, parameters)\n",
    "\n",
    "#One-hot encode the true label \n",
    "true_label = 3 \n",
    "y_true = np.eye(10)[true_label].reshape(-1, 1) \n",
    "\n",
    "#Calculating categorical cross-entropy loss\n",
    "loss = categorical_crossentropy(y_true, output)\n",
    "\n",
    "print(\"Categorical Cross-Entropy Loss:\", loss)"
   ]
  },
  {
   "cell_type": "code",
   "execution_count": 26,
   "id": "3e58744c",
   "metadata": {},
   "outputs": [
    {
     "name": "stdout",
     "output_type": "stream",
     "text": [
      "d_loss_d_W1: (128, 784)\n",
      "d_loss_d_b1: (128, 1)\n",
      "d_loss_d_W2: (64, 128)\n",
      "d_loss_d_b2: (64, 1)\n",
      "d_loss_d_W3: (10, 64)\n",
      "d_loss_d_b3: (10, 1)\n"
     ]
    }
   ],
   "source": [
    "def compute_gradients(x, y_true, parameters):\n",
    "    #Extracting the parameters\n",
    "    W1, b1 = parameters['W1'], parameters['b1']\n",
    "    W2, b2 = parameters['W2'], parameters['b2']\n",
    "    W3, b3 = parameters['W3'], parameters['b3']\n",
    "    \n",
    "    #Performing feedforward to get predictions\n",
    "    z1 = np.dot(W1, x) + b1\n",
    "    a1 = sigmoid(z1)\n",
    "    \n",
    "    z2 = np.dot(W2, a1) + b2\n",
    "    a2 = sigmoid(z2)\n",
    "    \n",
    "    z3 = np.dot(W3, a2) + b3\n",
    "    a3 = sigmoid(z3)\n",
    "    \n",
    "    #Computing the derivative of the loss with respect to the output layer\n",
    "    d_loss_d_output = a3 - y_true\n",
    "    \n",
    "    #Computing the gradients for the output layer\n",
    "    d_output_d_z3 = sigmoid_derivative(z3)\n",
    "    d_loss_d_W3 = np.dot(d_loss_d_output * d_output_d_z3, a2.T)\n",
    "    d_loss_d_b3 = np.sum(d_loss_d_output * d_output_d_z3, axis=1, keepdims=True)\n",
    "    \n",
    "    #Computing the gradients for the second hidden layer\n",
    "    d_z3_d_a2 = W3\n",
    "    d_loss_d_a2 = np.dot(d_z3_d_a2.T, d_loss_d_output * d_output_d_z3)\n",
    "    d_a2_d_z2 = sigmoid_derivative(z2)\n",
    "    d_loss_d_z2 = d_loss_d_a2 * d_a2_d_z2\n",
    "    d_loss_d_W2 = np.dot(d_loss_d_z2, a1.T)\n",
    "    d_loss_d_b2 = np.sum(d_loss_d_z2, axis=1, keepdims=True)\n",
    "    \n",
    "    #Computing the gradients for the first hidden layer\n",
    "    d_z2_d_a1 = W2\n",
    "    d_loss_d_a1 = np.dot(d_z2_d_a1.T, d_loss_d_z2)\n",
    "    d_a1_d_z1 = sigmoid_derivative(z1)\n",
    "    d_loss_d_z1 = d_loss_d_a1 * d_a1_d_z1\n",
    "    d_loss_d_W1 = np.dot(d_loss_d_z1, x.T)\n",
    "    d_loss_d_b1 = np.sum(d_loss_d_z1, axis=1, keepdims=True)\n",
    "    \n",
    "    gradients = {\n",
    "        'd_loss_d_W1': d_loss_d_W1,\n",
    "        'd_loss_d_b1': d_loss_d_b1,\n",
    "        'd_loss_d_W2': d_loss_d_W2,\n",
    "        'd_loss_d_b2': d_loss_d_b2,\n",
    "        'd_loss_d_W3': d_loss_d_W3,\n",
    "        'd_loss_d_b3': d_loss_d_b3\n",
    "    }\n",
    "    \n",
    "    return gradients\n",
    "\n",
    "#Calculating the  gradients\n",
    "gradients = compute_gradients(input_vector, y_true, parameters)\n",
    "\n",
    "#Printing the gradients\n",
    "for key, value in gradients.items():\n",
    "    print(f\"{key}: {value.shape}\")"
   ]
  },
  {
   "cell_type": "markdown",
   "id": "4fbdba23",
   "metadata": {},
   "source": [
    "# Step 6: Model Training"
   ]
  },
  {
   "cell_type": "markdown",
   "id": "154752a4",
   "metadata": {},
   "source": [
    "Mini-Batch gradient descent"
   ]
  },
  {
   "cell_type": "code",
   "execution_count": 27,
   "id": "9ca92fe2",
   "metadata": {},
   "outputs": [],
   "source": [
    "#Defining the batch size as 128 and epochs as 100\n",
    "def mini_batch_gradient_descent(X, Y, parameters, learning_rate, batch_size=128, epochs=100):\n",
    "    m = X.shape[1] \n",
    "    \n",
    "    for epoch in range(epochs):\n",
    "        for i in range(0, m, batch_size):\n",
    "            #Creating a mini-batch\n",
    "            X_batch = X[:, i:i+batch_size]\n",
    "            Y_batch = Y[:, i:i+batch_size]\n",
    "            \n",
    "            #Performing feedforward\n",
    "            output = feed_forward(X_batch, parameters)\n",
    "            \n",
    "            #One-hot encode true labels for the batch\n",
    "            true_labels = np.argmax(Y_batch, axis=0)\n",
    "            y_true_batch = np.eye(10)[true_labels].T \n",
    "            \n",
    "            #Computing gradients\n",
    "            gradients = compute_gradients(X_batch, y_true_batch, parameters)\n",
    "            \n",
    "            #Updating the parameters\n",
    "            for key in parameters.keys():\n",
    "                parameters[key] -= learning_rate * gradients[f'd_loss_d_{key}']\n",
    "        \n",
    "    return parameters"
   ]
  },
  {
   "cell_type": "code",
   "execution_count": 28,
   "id": "e9837caf",
   "metadata": {},
   "outputs": [
    {
     "name": "stderr",
     "output_type": "stream",
     "text": [
      "/var/folders/_r/wzyclcxj1z97b48f2sbc240r0000gn/T/ipykernel_69222/2425577243.py:3: RuntimeWarning: overflow encountered in exp\n",
      "  return 1 / (1 + np.exp(-x))\n"
     ]
    }
   ],
   "source": [
    "#Reshaping the training images to a flat format using transpose\n",
    "train_images_flat = train_images.reshape(-1, 28 * 28).T\n",
    "\n",
    "#Setting the learning rate to 0.001\n",
    "learning_rate = 0.001 \n",
    "\n",
    "if len(train_labels.shape) == 1:\n",
    "    \n",
    "    #Converting single-dimensional labels to one-hot encoded format using eye function in numpy\n",
    "    train_labels_one_hot = np.eye(10)[train_labels].T \n",
    "else:\n",
    "    train_labels_one_hot = train_labels\n",
    "    \n",
    "#Performing mini-batch gradient descent to update the model parameters\n",
    "trained_parameters = mini_batch_gradient_descent(train_images_flat, train_labels_one_hot, parameters, learning_rate)\n"
   ]
  },
  {
   "cell_type": "code",
   "execution_count": 29,
   "id": "84cf7c5b",
   "metadata": {},
   "outputs": [
    {
     "name": "stdout",
     "output_type": "stream",
     "text": [
      "W1: [[ 0.00882747  0.00730737  0.01073675 ...  0.00788746 -0.00538762\n",
      "  -0.00896228]\n",
      " [ 0.0016981  -0.00615846 -0.00417216 ...  0.00266351 -0.01296597\n",
      "   0.0019818 ]\n",
      " [ 0.01962913 -0.00106084  0.00930872 ... -0.011357    0.00708195\n",
      "   0.00624709]\n",
      " ...\n",
      " [ 0.00408032  0.00651932  0.01679981 ...  0.00996988 -0.01366389\n",
      "   0.00292285]\n",
      " [-0.0023941  -0.00738654 -0.02063963 ...  0.00175349  0.00051566\n",
      "  -0.00910421]\n",
      " [ 0.00707874  0.01243131  0.0019343  ...  0.00260309 -0.01270292\n",
      "  -0.0085994 ]]\n",
      "b1: [[ 5.65521377e-04]\n",
      " [-2.35715981e-03]\n",
      " [-1.51024185e-03]\n",
      " [-1.26359197e-03]\n",
      " [ 2.21337070e-03]\n",
      " [-1.10265127e-03]\n",
      " [-1.29440380e-03]\n",
      " [-1.02274223e-03]\n",
      " [ 1.26919037e-03]\n",
      " [-1.15517563e-03]\n",
      " [-9.61238936e-04]\n",
      " [ 7.15750359e-04]\n",
      " [-1.15541207e-03]\n",
      " [-1.10834383e-03]\n",
      " [-6.88306857e-04]\n",
      " [-7.56909787e-04]\n",
      " [ 1.02444286e-03]\n",
      " [ 7.64948683e-04]\n",
      " [-4.37282244e-03]\n",
      " [-1.89004064e-03]\n",
      " [-1.05015026e-03]\n",
      " [ 2.15745087e-03]\n",
      " [ 1.58126329e-03]\n",
      " [-2.62082365e-03]\n",
      " [ 1.48332955e-03]\n",
      " [-1.79705694e-03]\n",
      " [-4.89896564e-04]\n",
      " [-2.46172747e-05]\n",
      " [ 1.18972600e-03]\n",
      " [ 5.42819428e-04]\n",
      " [ 1.10647014e-03]\n",
      " [-1.25025869e-03]\n",
      " [-9.25316758e-04]\n",
      " [ 1.07699065e-03]\n",
      " [-8.12298431e-04]\n",
      " [-2.58496881e-04]\n",
      " [-1.37709223e-03]\n",
      " [-6.95127283e-04]\n",
      " [-1.01676848e-03]\n",
      " [-2.65104842e-04]\n",
      " [ 1.80102058e-03]\n",
      " [ 1.44197574e-04]\n",
      " [-1.53645724e-03]\n",
      " [-2.55530265e-05]\n",
      " [ 1.29689348e-03]\n",
      " [-3.00948975e-03]\n",
      " [-2.99475761e-04]\n",
      " [ 2.80169609e-03]\n",
      " [-3.27301337e-04]\n",
      " [-2.51747077e-03]\n",
      " [ 2.42159306e-03]\n",
      " [-1.74398939e-03]\n",
      " [ 2.40997081e-05]\n",
      " [ 8.50438661e-04]\n",
      " [-7.05720206e-04]\n",
      " [ 2.67399319e-03]\n",
      " [ 1.69170213e-03]\n",
      " [ 1.26275304e-03]\n",
      " [ 1.22185209e-04]\n",
      " [ 3.88634405e-04]\n",
      " [-2.41787295e-03]\n",
      " [-4.21288091e-04]\n",
      " [-1.55865309e-03]\n",
      " [ 6.46077835e-04]\n",
      " [ 2.33652487e-03]\n",
      " [-1.50149360e-03]\n",
      " [-7.31606238e-04]\n",
      " [-1.17836288e-03]\n",
      " [ 1.48415610e-03]\n",
      " [-3.41639694e-04]\n",
      " [-1.14657350e-03]\n",
      " [ 1.42500297e-03]\n",
      " [-4.37445338e-04]\n",
      " [ 1.42810991e-03]\n",
      " [ 1.17377328e-03]\n",
      " [-1.49838932e-03]\n",
      " [ 2.35101017e-03]\n",
      " [ 1.78889116e-03]\n",
      " [ 6.37898251e-05]\n",
      " [-1.17902393e-03]\n",
      " [-1.41657171e-03]\n",
      " [ 7.27926046e-04]\n",
      " [ 1.20312120e-03]\n",
      " [ 9.31204471e-05]\n",
      " [-6.87254757e-04]\n",
      " [ 6.65806047e-04]\n",
      " [-1.68344707e-03]\n",
      " [-1.19859782e-03]\n",
      " [-1.30377461e-03]\n",
      " [-1.02828295e-03]\n",
      " [ 1.68788918e-03]\n",
      " [ 1.42307472e-03]\n",
      " [-1.17382863e-03]\n",
      " [-1.68593919e-04]\n",
      " [-9.88690914e-05]\n",
      " [-2.32414690e-04]\n",
      " [ 1.54073687e-03]\n",
      " [ 1.28148362e-03]\n",
      " [-1.87696701e-03]\n",
      " [ 1.32577958e-04]\n",
      " [-2.77734148e-04]\n",
      " [ 1.23649291e-03]\n",
      " [-1.74935095e-04]\n",
      " [ 1.49186763e-03]\n",
      " [-3.93107560e-04]\n",
      " [ 1.86791997e-03]\n",
      " [-4.20841157e-04]\n",
      " [ 2.00749320e-03]\n",
      " [-4.78598718e-04]\n",
      " [-4.12489892e-04]\n",
      " [ 1.77195036e-03]\n",
      " [-1.95660926e-03]\n",
      " [ 1.52368161e-03]\n",
      " [ 3.81413821e-04]\n",
      " [ 2.04574515e-03]\n",
      " [-1.10934423e-03]\n",
      " [ 2.83245712e-04]\n",
      " [-9.06751613e-04]\n",
      " [-1.33182939e-03]\n",
      " [ 1.36373436e-03]\n",
      " [ 1.13803197e-03]\n",
      " [ 9.33150013e-04]\n",
      " [ 1.05234775e-03]\n",
      " [-7.50035026e-04]\n",
      " [-6.59182592e-06]\n",
      " [-4.63404125e-04]\n",
      " [-1.06722250e-03]\n",
      " [ 1.20611427e-03]]\n",
      "W2: [[-0.13685708  0.16704411 -0.05249935 ... -0.08947138  0.25925367\n",
      "   0.09971942]\n",
      " [-0.18663395  0.00560622 -0.33356327 ... -0.0524866  -0.02008773\n",
      "   0.02560921]\n",
      " [-0.20998821 -0.02605049 -0.06044324 ...  0.30083848  0.03805111\n",
      "  -0.17459157]\n",
      " ...\n",
      " [-0.02533413  0.06494965 -0.08910929 ... -0.03650448  0.0434088\n",
      "   0.20979314]\n",
      " [-0.07612899 -0.21496524 -0.03303128 ... -0.16124535 -0.08445228\n",
      "  -0.02469849]\n",
      " [ 0.33037403  0.09690116  0.41842321 ... -0.23340254 -0.06549546\n",
      "   0.24255964]]\n",
      "b2: [[-0.02733995]\n",
      " [ 0.0154035 ]\n",
      " [-0.00526784]\n",
      " [-0.00228855]\n",
      " [ 0.00115268]\n",
      " [ 0.00497854]\n",
      " [-0.03394288]\n",
      " [ 0.03855279]\n",
      " [-0.06240755]\n",
      " [ 0.04438734]\n",
      " [-0.01413954]\n",
      " [ 0.0577375 ]\n",
      " [-0.04280101]\n",
      " [ 0.04896171]\n",
      " [ 0.04976782]\n",
      " [ 0.02370615]\n",
      " [-0.07027122]\n",
      " [-0.0194868 ]\n",
      " [ 0.05492653]\n",
      " [ 0.02441417]\n",
      " [-0.02720317]\n",
      " [ 0.0814235 ]\n",
      " [ 0.02574672]\n",
      " [ 0.03010703]\n",
      " [ 0.03832615]\n",
      " [-0.02217677]\n",
      " [ 0.00162168]\n",
      " [-0.0194026 ]\n",
      " [ 0.00462664]\n",
      " [ 0.00094355]\n",
      " [-0.008618  ]\n",
      " [ 0.06023648]\n",
      " [-0.04731549]\n",
      " [ 0.00128893]\n",
      " [ 0.03006714]\n",
      " [-0.00166337]\n",
      " [ 0.04861722]\n",
      " [-0.0146812 ]\n",
      " [ 0.04438824]\n",
      " [-0.02170809]\n",
      " [-0.02418204]\n",
      " [ 0.01629792]\n",
      " [-0.00764805]\n",
      " [-0.00733401]\n",
      " [ 0.03570598]\n",
      " [-0.04640301]\n",
      " [-0.031005  ]\n",
      " [ 0.01705882]\n",
      " [ 0.04663146]\n",
      " [-0.04404795]\n",
      " [ 0.04736363]\n",
      " [-0.0188393 ]\n",
      " [ 0.02755645]\n",
      " [-0.00047351]\n",
      " [-0.05411263]\n",
      " [ 0.00338544]\n",
      " [-0.06252687]\n",
      " [ 0.05466163]\n",
      " [ 0.00953747]\n",
      " [ 0.0031029 ]\n",
      " [-0.01036229]\n",
      " [-0.00177287]\n",
      " [ 0.01339829]\n",
      " [ 0.02691693]]\n",
      "W3: [[-1.31640227e+00 -1.01608897e+00 -3.75494975e-01  1.75673292e-01\n",
      "  -4.44231651e-01 -5.77025549e-01 -2.65687961e-01  5.74083192e-01\n",
      "  -3.05254447e-01 -5.29721192e-01  3.61566309e-01  4.37497184e-01\n",
      "  -1.05637627e+00  3.07945446e-01 -4.51317028e-01 -6.73380188e-01\n",
      "  -1.18635397e+00 -1.60395669e-01 -4.53914561e-01 -3.77327851e-01\n",
      "  -1.03474955e+00  2.72505411e-01 -8.23105578e-01 -3.07414705e-01\n",
      "   6.55470838e-01 -1.42306330e-01 -9.14556379e-01 -8.60282492e-01\n",
      "   2.38613032e-01  1.19300235e-01  2.11325965e-02 -5.02498605e-01\n",
      "   5.94873206e-01 -9.05571980e-01  4.34571626e-01  1.01510334e+00\n",
      "   7.76961927e-01 -9.20632743e-01 -8.37314490e-01 -1.04383784e+00\n",
      "  -5.14323562e-01 -3.55724703e-01  3.18145428e-01 -7.09143203e-01\n",
      "   7.80681355e-01 -1.03291544e+00  3.35776029e-01 -3.74907389e-01\n",
      "   9.53306689e-01  3.42855739e-01 -7.77518398e-01  1.38739498e-01\n",
      "  -5.92836957e-01  7.81091850e-01 -6.07646117e-01 -3.90549628e-01\n",
      "   6.01705837e-01 -5.95310328e-01 -5.76456457e-01 -3.56842227e-01\n",
      "   1.73957715e-01 -5.37224646e-01 -9.66819259e-01 -2.41639388e-01]\n",
      " [ 1.36239342e-01 -1.00817971e-01  4.18158618e-01 -8.88455526e-01\n",
      "  -1.93538090e-02 -6.97496354e-01  9.08984273e-02 -7.61183038e-01\n",
      "   6.22344350e-03  9.87926773e-01  6.13096853e-02  2.10318376e-01\n",
      "   4.60239442e-01 -1.67595778e-01  2.84070380e-01  1.60231611e-01\n",
      "   1.29331356e-02 -1.24868395e-01 -4.68746536e-01  9.58657364e-01\n",
      "   1.66257777e-01 -3.83515845e-01  1.25336853e-01  4.84708152e-01\n",
      "   4.14057959e-01 -1.26633436e-01 -3.84272689e-01 -1.47950266e-01\n",
      "   4.78879104e-02 -4.12274979e-01 -4.08649302e-01  3.45132041e-01\n",
      "  -2.81737883e-01 -1.03147646e-01 -5.82608609e-01  2.12504508e-01\n",
      "  -4.01869924e-01  1.03782832e-01  1.35834008e+00 -5.29160885e-01\n",
      "  -2.03728392e-01 -9.51282566e-01 -1.96120681e-01 -4.50053722e-01\n",
      "  -7.68783878e-01  5.01248539e-01  3.86923614e-01  6.79782656e-01\n",
      "  -4.34720558e-01 -7.18850884e-01 -1.22200426e-01 -2.26031419e+00\n",
      "  -5.60004407e-01 -7.67643684e-01  2.77026921e-01 -7.30570240e-01\n",
      "  -1.31163355e+00 -8.14614347e-02  4.68086108e-01 -3.16583242e-01\n",
      "  -1.01529654e+00 -8.73274722e-01  5.30791301e-01 -5.83977757e-01]\n",
      " [ 3.57043714e-01 -9.02615829e-01 -6.11238170e-01  2.28870480e-01\n",
      "  -6.31786173e-01 -2.00058825e-01  9.95161521e-02  7.83638825e-01\n",
      "  -3.81078023e-02 -5.42073687e-02 -1.73343426e-01  2.27002087e-01\n",
      "  -1.20951022e+00 -3.94357590e-01  2.13891941e-01 -9.98310944e-01\n",
      "  -1.30363256e-02  5.06102673e-01 -4.82870596e-03 -7.04427659e-01\n",
      "   9.39297647e-01 -4.78782452e-01 -9.53304862e-01  4.17817303e-01\n",
      "  -4.06340365e-01 -4.40640097e-01 -5.81761140e-01  9.50948281e-02\n",
      "  -1.68337511e-01 -1.55897717e-01 -8.93216346e-01  3.34836267e-01\n",
      "   9.11655430e-02  7.05962199e-01 -1.06415565e+00  6.20140598e-02\n",
      "  -1.09114600e+00 -1.17137173e+00  7.52194315e-01 -1.07123168e+00\n",
      "   7.32409561e-01 -9.46036546e-01 -1.15690444e-01 -2.97962245e-01\n",
      "  -1.07539646e+00 -1.57046673e+00 -2.73471037e-01 -5.35602579e-01\n",
      "  -5.90140761e-01 -9.06426084e-01  7.98860892e-01  9.90941597e-02\n",
      "   2.17356609e-01 -3.74222365e-01  1.48697722e-02 -7.60412578e-02\n",
      "   4.83391600e-01 -9.01588523e-01  4.38331767e-01  4.98882826e-01\n",
      "   3.13748198e-01 -1.52024423e-01 -6.89522685e-01  5.46126560e-01]\n",
      " [ 6.79472643e-01 -1.08010212e-01 -5.38881070e-01 -2.79537642e-01\n",
      "   2.14205085e-02 -5.93638525e-01  2.54941867e-01 -8.55946037e-01\n",
      "  -1.66499942e-01 -5.51720897e-01 -6.43335655e-01 -1.46872545e+00\n",
      "   7.55469834e-01  5.17411699e-01 -6.48698834e-01 -6.61579583e-02\n",
      "  -1.06655103e+00  3.45122885e-01 -6.83984811e-01 -8.60645681e-01\n",
      "   1.00280068e+00 -4.93943765e-01  2.71374751e-02 -9.50921555e-01\n",
      "  -2.92819575e-01 -3.32891197e-01 -7.02451479e-01 -9.94821835e-01\n",
      "   1.87464155e-01 -6.73260257e-02 -6.85011345e-01 -7.33374174e-01\n",
      "   3.14911951e-02  7.29205940e-01 -8.36363650e-01  5.97501054e-01\n",
      "   5.21938683e-01 -1.08046825e+00 -9.87734393e-01 -1.00094780e+00\n",
      "   7.24845760e-01 -1.12076103e+00  8.82340408e-02 -7.02561298e-01\n",
      "   6.12001298e-01  5.35407451e-01  4.19046341e-01 -3.55131879e-01\n",
      "   5.12768122e-01 -7.60955181e-01  3.67503234e-01  6.15661681e-02\n",
      "  -8.14731296e-01 -8.76599916e-01 -1.07512421e+00 -5.15643102e-01\n",
      "  -1.19003285e+00 -8.41959509e-01  4.57534927e-01  7.34326963e-01\n",
      "   2.10524785e-01 -5.66205789e-01 -8.16785608e-01 -1.13115120e+00]\n",
      " [-6.04224311e-01  5.86721997e-01 -9.94812351e-01  5.03087132e-01\n",
      "  -6.33760160e-01  9.78487119e-01 -7.42478313e-01  9.67325839e-01\n",
      "  -9.12595180e-01 -2.90457607e-01 -7.59678817e-01  1.85336759e-01\n",
      "  -1.35034246e+00 -6.46367297e-01 -4.09773089e-01 -6.09320848e-01\n",
      "  -1.01029296e-03 -5.24492895e-01  1.03262011e-01 -6.60254195e-01\n",
      "  -3.82782355e-01  1.82862694e-01 -2.56897507e-01 -1.09505304e+00\n",
      "  -8.21384116e-01 -2.50173667e-01  7.70154207e-01 -1.01204293e-02\n",
      "  -9.64387360e-01 -6.94730185e-01 -2.58774103e-01 -3.92009717e-01\n",
      "  -7.09643270e-01 -3.48473659e-01  3.98953401e-01 -7.11320687e-01\n",
      "  -3.49895639e-01 -9.36722862e-02 -6.41515056e-01  1.62816560e-01\n",
      "  -3.89700208e-01  2.18167757e-01 -9.45212599e-01  5.78390567e-01\n",
      "  -3.40621554e-01 -1.71421898e+00 -1.36143957e+00 -8.80737678e-01\n",
      "  -6.93457104e-01 -1.50884640e-01 -3.32383348e-01 -1.11418354e-02\n",
      "   2.08649627e-01  8.00510260e-01 -9.63114300e-02  8.56153724e-01\n",
      "   6.04849972e-02  6.25798312e-02 -4.79132802e-01 -5.37195702e-01\n",
      "   6.43150138e-01  1.03917444e+00 -1.60125274e-01  6.94814853e-01]\n",
      " [-1.26312527e+00  7.98726121e-01 -6.81506073e-01 -2.89631572e-01\n",
      "  -4.17909328e-01 -8.98437134e-01 -9.83155717e-01 -6.70201539e-01\n",
      "  -1.09404137e+00 -2.68524593e-01 -5.06995051e-01 -7.26182984e-01\n",
      "   5.86594415e-01  9.38282032e-01 -4.03306717e-01  2.30501731e-01\n",
      "  -1.02650765e+00 -1.34830751e-01 -6.72987633e-02 -3.38649642e-01\n",
      "  -1.14005885e+00  7.04929042e-01  4.41416358e-01 -6.54808450e-01\n",
      "  -3.98301654e-01 -1.66704372e-01  8.03412616e-01 -1.22381280e+00\n",
      "  -6.65107308e-01  1.32928140e-01  6.98893132e-01 -2.61779468e-01\n",
      "   7.75714017e-02 -8.95841620e-01  4.95624168e-01 -4.45003684e-01\n",
      "   3.18326642e-01  8.92818204e-01 -2.40803501e-01  1.03281568e+00\n",
      "  -7.64611008e-01  8.90933737e-01 -4.66428743e-01 -5.11796945e-01\n",
      "   4.54364451e-01  5.29833714e-01 -8.42995497e-01 -4.98384786e-01\n",
      "   8.95096825e-01 -3.40202657e-01 -9.25322732e-01 -1.28371007e-01\n",
      "  -7.37193813e-01 -8.83574890e-01 -9.75621470e-01 -8.38119890e-01\n",
      "  -4.05798082e-01  6.00888992e-01 -6.75148428e-01 -3.42995728e-01\n",
      "   7.03678613e-01 -9.82500816e-01 -2.91007384e-01 -8.62107203e-01]\n",
      " [ 2.90055379e-01 -8.21522897e-01 -3.71313898e-01 -1.94262760e-01\n",
      "  -5.24765033e-01 -8.54740100e-01  3.60846945e-02 -6.82915076e-02\n",
      "  -4.41295940e-01 -3.04461199e-01  2.17220675e-01  9.24804223e-02\n",
      "  -4.76598466e-01 -3.51266796e-01 -3.97203634e-01 -6.05019366e-01\n",
      "   2.60851298e-01 -1.22030448e+00 -3.07833436e-01 -3.31909459e-01\n",
      "  -1.07096551e+00 -6.57220909e-01 -5.79808734e-01  1.05539971e+00\n",
      "  -3.18146409e-02  5.30907038e-02 -1.16120872e+00 -1.56382021e-01\n",
      "   5.68477635e-01  4.05648352e-01  3.63205993e-01 -3.74581598e-01\n",
      "  -1.36764637e+00 -7.25617697e-01  5.18073530e-01 -1.05704569e+00\n",
      "  -1.52668723e+00  6.24778070e-01 -1.46846613e-01  4.73937633e-01\n",
      "  -9.69756210e-01  1.17817737e-02  6.17986497e-01 -4.47462096e-01\n",
      "  -1.12305008e+00 -4.64078031e-01  8.18033556e-01 -4.18541007e-01\n",
      "  -1.13792130e+00  6.18708823e-01 -4.74108796e-01 -2.10729443e-01\n",
      "   4.95085698e-01  2.90468150e-01  5.47133812e-01 -1.22145189e+00\n",
      "   9.14209456e-02  3.98955433e-01 -6.22064772e-01 -9.25670348e-01\n",
      "  -4.08332733e-02 -7.29791977e-01  4.36375928e-01  3.46133336e-01]\n",
      " [-3.64083245e-01 -2.23847695e-01  1.91849349e-02 -5.04150897e-01\n",
      "   1.61422316e-02  5.93169310e-01 -3.22953335e-01 -3.44860314e-01\n",
      "  -1.14867932e-01  3.96793424e-01 -3.81034379e-01 -1.80819317e-01\n",
      "  -4.80269815e-01 -6.95202334e-01  8.41914342e-01 -2.46292569e-01\n",
      "  -3.39997026e-01  5.45139412e-01  3.92994269e-01  9.37520458e-01\n",
      "   6.73456226e-01  3.56411981e-01 -2.11417086e-01 -9.51538800e-01\n",
      "  -4.75298404e-01 -1.13769234e+00  1.89844805e-01  2.17341059e-01\n",
      "  -8.50460830e-01 -4.08063013e-01 -1.11509358e+00  8.36675683e-01\n",
      "   1.57999390e-01  6.63093323e-01 -6.18054595e-01 -9.43160029e-01\n",
      "  -1.61045581e-01 -8.69872038e-01 -6.40820688e-01 -2.46842930e-01\n",
      "   4.00937597e-01  3.01018771e-01 -7.74504978e-01  3.46098297e-01\n",
      "  -2.41346782e-01 -1.49718715e-01 -1.14625734e+00  3.31377080e-01\n",
      "   3.17537650e-01 -1.11874925e+00  5.55465853e-01 -9.37592702e-02\n",
      "  -2.42504205e-01 -4.73859724e-01 -1.16233050e+00  8.46405991e-01\n",
      "  -1.06388015e+00 -5.59660457e-01 -2.89197712e-01  4.80103769e-01\n",
      "  -7.36955335e-01  6.25557979e-01 -5.76220906e-01 -2.24675477e-01]\n",
      " [ 6.83141003e-01  3.96107282e-01 -8.62610313e-01 -3.78346350e-01\n",
      "  -7.54926337e-01 -9.60879361e-01  3.63926966e-01 -7.94043200e-01\n",
      "   6.01461625e-01 -5.95090220e-01 -1.19815008e-01 -3.02807999e-01\n",
      "   5.42090213e-01 -1.11584468e+00 -7.91438916e-01 -8.51660499e-01\n",
      "   1.32111098e+00  8.08532611e-01 -6.51082333e-01 -7.29751240e-01\n",
      "   2.82202936e-01 -1.28687291e+00 -5.51877680e-01 -9.34034487e-01\n",
      "  -1.08650263e+00  4.93702883e-01  2.49047791e-01  2.71074453e-01\n",
      "  -7.14517249e-01 -4.50942388e-01 -3.27008939e-01 -7.45836185e-01\n",
      "   8.02948170e-01 -4.19385242e-01 -1.37091797e+00 -8.65022900e-01\n",
      "  -8.37602256e-01  4.83115115e-01 -8.58764785e-01  4.53117918e-01\n",
      "   8.20290577e-02 -2.40847444e-01 -5.77233488e-01 -2.85151217e-01\n",
      "  -1.00853613e+00  5.26551941e-01  2.71130804e-01 -7.70809575e-01\n",
      "  -1.09370970e+00 -5.50350027e-01 -1.07722587e+00  4.13337314e-01\n",
      "  -7.89735988e-01 -8.40735619e-01  7.05841386e-01 -1.09143661e+00\n",
      "   6.07340606e-01 -1.05890519e+00 -7.37486157e-01 -4.34275050e-01\n",
      "   9.45105926e-01 -1.01747871e+00 -2.80844448e-01 -6.90058571e-01]\n",
      " [-1.50723704e-01 -1.60546021e-01  9.98016926e-01 -7.11920549e-01\n",
      "   6.95740165e-01  4.12016664e-01 -2.70034111e-01 -1.51070108e+00\n",
      "   6.54944202e-01 -8.90608078e-01 -2.44423973e-01 -6.06915150e-01\n",
      "   5.25404791e-01 -6.10945097e-01 -6.43630189e-01  7.61078225e-01\n",
      "   1.11309961e-01 -1.23287462e+00 -6.39699165e-01 -6.78644046e-01\n",
      "  -1.01829012e+00 -1.10181220e+00  2.78518434e-01 -5.38973097e-01\n",
      "  -3.14162216e-01  1.62029169e-01 -9.79055612e-02  1.49137492e-01\n",
      "  -5.38117491e-01 -7.72119689e-01  1.79832716e-01 -8.05772784e-01\n",
      "  -5.85846004e-01 -8.61660423e-01 -7.57086882e-01 -4.82126523e-01\n",
      "   3.44769237e-01  1.31157818e-01 -3.52247291e-01 -1.67575850e-02\n",
      "  -8.34144021e-01 -1.10741585e-01 -5.74598326e-01  7.49445363e-02\n",
      "   1.58647783e-01  1.22337328e+00 -6.72073578e-01  1.98905782e-01\n",
      "  -1.11832476e+00  8.67580207e-01 -6.72612844e-01  1.14106113e-01\n",
      "  -2.09253283e-02 -8.63964142e-01  3.29237565e-01  6.25900347e-01\n",
      "   8.27620943e-01  6.26880593e-02 -4.81252846e-01 -9.77362584e-01\n",
      "  -2.06795472e+00  4.92183014e-01  6.81264157e-02 -8.43921831e-01]]\n",
      "b3: [[-0.26170868]\n",
      " [-0.40825263]\n",
      " [-0.39453898]\n",
      " [-0.43106901]\n",
      " [-0.31528326]\n",
      " [-0.26440605]\n",
      " [-0.48622818]\n",
      " [-0.40209111]\n",
      " [-0.08815966]\n",
      " [-0.3825878 ]]\n"
     ]
    }
   ],
   "source": [
    "#Printing the updated parameters\n",
    "for key, value in trained_parameters.items():\n",
    "    print(f\"{key}: {value}\")"
   ]
  },
  {
   "cell_type": "markdown",
   "id": "f66f657e",
   "metadata": {},
   "source": [
    "# Step 7: Model Evaluation"
   ]
  },
  {
   "cell_type": "code",
   "execution_count": 30,
   "id": "28b231da",
   "metadata": {},
   "outputs": [
    {
     "name": "stdout",
     "output_type": "stream",
     "text": [
      "Predicted Labels for the First 20 Samples: [7 2 1 0 4 1 4 9 5 9 0 6 9 0 1 5 9 7 3 4]\n"
     ]
    },
    {
     "name": "stderr",
     "output_type": "stream",
     "text": [
      "/var/folders/_r/wzyclcxj1z97b48f2sbc240r0000gn/T/ipykernel_69222/2425577243.py:3: RuntimeWarning: overflow encountered in exp\n",
      "  return 1 / (1 + np.exp(-x))\n"
     ]
    }
   ],
   "source": [
    "#Flattening the test images \n",
    "test_images_flat = test_images.reshape(-1, 28 * 28).T\n",
    "\n",
    "#Performing a forward pass through the trained neural network\n",
    "raw_logits = feed_forward(test_images_flat, trained_parameters)\n",
    "\n",
    "#Applying softmax to obtain probabilities\n",
    "softmax_output = softmax(raw_logits)\n",
    "\n",
    "#Getting predicted labels\n",
    "predicted_labels = np.argmax(softmax_output, axis=0)\n",
    "\n",
    "#Printing some predictions\n",
    "print(\"Predicted Labels for the First 20 Samples:\", predicted_labels[:20])\n"
   ]
  },
  {
   "cell_type": "code",
   "execution_count": 31,
   "id": "747b3876",
   "metadata": {},
   "outputs": [
    {
     "data": {
      "text/plain": [
       "10000"
      ]
     },
     "execution_count": 31,
     "metadata": {},
     "output_type": "execute_result"
    }
   ],
   "source": [
    "len(test_labels)"
   ]
  },
  {
   "cell_type": "code",
   "execution_count": 32,
   "id": "50766ddf",
   "metadata": {},
   "outputs": [
    {
     "data": {
      "text/plain": [
       "10000"
      ]
     },
     "execution_count": 32,
     "metadata": {},
     "output_type": "execute_result"
    }
   ],
   "source": [
    "len(predicted_labels)"
   ]
  },
  {
   "cell_type": "code",
   "execution_count": 33,
   "id": "11832873",
   "metadata": {},
   "outputs": [],
   "source": [
    "#Initializing counters for correct and incorrect predictions.\n",
    "trueCount = 0\n",
    "falseCount = 0\n",
    "\n",
    "#Iterating through the predicted and true labels to count correct and incorrect predictions\n",
    "for i in range(len(predicted_labels)):\n",
    "    if predicted_labels[i] == test_labels[i]:\n",
    "        #Incrementing the true count when the prediction is correct\n",
    "        trueCount +=1\n",
    "        \n",
    "    else:\n",
    "        #Incrementing the false count when the prediction is incorrect\n",
    "        falseCount += 1"
   ]
  },
  {
   "cell_type": "code",
   "execution_count": 34,
   "id": "691de95b",
   "metadata": {},
   "outputs": [
    {
     "data": {
      "text/plain": [
       "9595"
      ]
     },
     "execution_count": 34,
     "metadata": {},
     "output_type": "execute_result"
    }
   ],
   "source": [
    "trueCount"
   ]
  },
  {
   "cell_type": "code",
   "execution_count": 35,
   "id": "50feb76e",
   "metadata": {},
   "outputs": [
    {
     "data": {
      "text/plain": [
       "405"
      ]
     },
     "execution_count": 35,
     "metadata": {},
     "output_type": "execute_result"
    }
   ],
   "source": [
    "falseCount"
   ]
  },
  {
   "cell_type": "code",
   "execution_count": 36,
   "id": "70c409ad",
   "metadata": {},
   "outputs": [
    {
     "data": {
      "text/plain": [
       "95.95"
      ]
     },
     "execution_count": 36,
     "metadata": {},
     "output_type": "execute_result"
    }
   ],
   "source": [
    "#Computing the accuracy\n",
    "accuracy = (trueCount/len(test_labels))*100\n",
    "accuracy"
   ]
  },
  {
   "cell_type": "code",
   "execution_count": 39,
   "id": "836c117e",
   "metadata": {},
   "outputs": [
    {
     "data": {
      "image/png": "[encoded data removed]",
      "text/plain": [
       "<Figure size 640x480 with 1 Axes>"
      ]
     },
     "metadata": {},
     "output_type": "display_data"
    },
    {
     "data": {
      "image/png": "[encoded data removed]",
      "text/plain": [
       "<Figure size 640x480 with 1 Axes>"
      ]
     },
     "metadata": {},
     "output_type": "display_data"
    },
    {
     "data": {
      "image/png": "[encoded data removed]",
      "text/plain": [
       "<Figure size 640x480 with 1 Axes>"
      ]
     },
     "metadata": {},
     "output_type": "display_data"
    },
    {
     "data": {
      "image/png": "[encoded data removed]",
      "text/plain": [
       "<Figure size 640x480 with 1 Axes>"
      ]
     },
     "metadata": {},
     "output_type": "display_data"
    },
    {
     "data": {
      "image/png": "[encoded data removed]",
      "text/plain": [
       "<Figure size 640x480 with 1 Axes>"
      ]
     },
     "metadata": {},
     "output_type": "display_data"
    }
   ],
   "source": [
    "#Finding the indices of misclassified images\n",
    "misclassified_indices = np.where(predicted_labels != test_labels)[0]\n",
    "\n",
    "#Setting the number of misclassified images to plot\n",
    "num_misclassified_to_plot = min(5, len(misclassified_indices))\n",
    "\n",
    "#Plotting the misclassified images\n",
    "for i in range(num_misclassified_to_plot):\n",
    "    index = misclassified_indices[i]\n",
    "    predicted_label = predicted_labels[index]\n",
    "    true_label = test_labels[index]\n",
    "\n",
    "    #Reshaping the flattened image to its original shape\n",
    "    misclassified_image = test_images[index, :].reshape(28,28)\n",
    "    plt.imshow(misclassified_image, cmap='binary')\n",
    "    plt.title(f\"Predicted: {predicted_labels[index]}\\nTrue: {true_label}\")\n",
    "    plt.axis('off')\n",
    "    \n",
    "    #Displaying the plot\n",
    "    plt.show()"
   ]
  }
 ],
 "metadata": {
  "kernelspec": {
   "display_name": "Python 3 (ipykernel)",
   "language": "python",
   "name": "python3"
  },
  "language_info": {
   "codemirror_mode": {
    "name": "ipython",
    "version": 3
   },
   "file_extension": ".py",
   "mimetype": "text/x-python",
   "name": "python",
   "nbconvert_exporter": "python",
   "pygments_lexer": "ipython3",
   "version": "3.11.4"
  }
 },
 "nbformat": 4,
 "nbformat_minor": 5
}
