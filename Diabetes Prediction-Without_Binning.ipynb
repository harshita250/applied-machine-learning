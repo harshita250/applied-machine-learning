{
 "cells": [
  {
   "cell_type": "code",
   "execution_count": 51,
   "id": "6c51d97c",
   "metadata": {},
   "outputs": [],
   "source": [
    "import pandas as pd\n",
    "import matplotlib.pyplot as plt\n",
    "import seaborn as sns\n",
    "import numpy as np\n",
    "from sklearn.preprocessing import MinMaxScaler\n",
    "from sklearn.metrics import classification_report, accuracy_score, f1_score, roc_curve, roc_auc_score, confusion_matrix\n",
    "from sklearn.model_selection import train_test_split , cross_val_score , RepeatedStratifiedKFold\n",
    "\n",
    "import warnings\n",
    "warnings.filterwarnings('ignore')"
   ]
  },
  {
   "cell_type": "code",
   "execution_count": 31,
   "id": "3858f878",
   "metadata": {},
   "outputs": [
    {
     "data": {
      "text/html": [
       "<div>\n",
       "<style scoped>\n",
       "    .dataframe tbody tr th:only-of-type {\n",
       "        vertical-align: middle;\n",
       "    }\n",
       "\n",
       "    .dataframe tbody tr th {\n",
       "        vertical-align: top;\n",
       "    }\n",
       "\n",
       "    .dataframe thead th {\n",
       "        text-align: right;\n",
       "    }\n",
       "</style>\n",
       "<table border=\"1\" class=\"dataframe\">\n",
       "  <thead>\n",
       "    <tr style=\"text-align: right;\">\n",
       "      <th></th>\n",
       "      <th>pregnancies</th>\n",
       "      <th>glucose</th>\n",
       "      <th>bloodpressure</th>\n",
       "      <th>skinthickness</th>\n",
       "      <th>insulin</th>\n",
       "      <th>bmi</th>\n",
       "      <th>diabetespedigreefunction</th>\n",
       "      <th>age</th>\n",
       "      <th>label</th>\n",
       "    </tr>\n",
       "  </thead>\n",
       "  <tbody>\n",
       "    <tr>\n",
       "      <th>0</th>\n",
       "      <td>6</td>\n",
       "      <td>148</td>\n",
       "      <td>72</td>\n",
       "      <td>35</td>\n",
       "      <td>0</td>\n",
       "      <td>33.6</td>\n",
       "      <td>0.627</td>\n",
       "      <td>50</td>\n",
       "      <td>1</td>\n",
       "    </tr>\n",
       "    <tr>\n",
       "      <th>1</th>\n",
       "      <td>1</td>\n",
       "      <td>85</td>\n",
       "      <td>66</td>\n",
       "      <td>29</td>\n",
       "      <td>0</td>\n",
       "      <td>26.6</td>\n",
       "      <td>0.351</td>\n",
       "      <td>31</td>\n",
       "      <td>0</td>\n",
       "    </tr>\n",
       "    <tr>\n",
       "      <th>2</th>\n",
       "      <td>8</td>\n",
       "      <td>183</td>\n",
       "      <td>64</td>\n",
       "      <td>0</td>\n",
       "      <td>0</td>\n",
       "      <td>23.3</td>\n",
       "      <td>0.672</td>\n",
       "      <td>32</td>\n",
       "      <td>1</td>\n",
       "    </tr>\n",
       "    <tr>\n",
       "      <th>3</th>\n",
       "      <td>1</td>\n",
       "      <td>89</td>\n",
       "      <td>66</td>\n",
       "      <td>23</td>\n",
       "      <td>94</td>\n",
       "      <td>28.1</td>\n",
       "      <td>0.167</td>\n",
       "      <td>21</td>\n",
       "      <td>0</td>\n",
       "    </tr>\n",
       "    <tr>\n",
       "      <th>4</th>\n",
       "      <td>0</td>\n",
       "      <td>137</td>\n",
       "      <td>40</td>\n",
       "      <td>35</td>\n",
       "      <td>168</td>\n",
       "      <td>43.1</td>\n",
       "      <td>2.288</td>\n",
       "      <td>33</td>\n",
       "      <td>1</td>\n",
       "    </tr>\n",
       "    <tr>\n",
       "      <th>...</th>\n",
       "      <td>...</td>\n",
       "      <td>...</td>\n",
       "      <td>...</td>\n",
       "      <td>...</td>\n",
       "      <td>...</td>\n",
       "      <td>...</td>\n",
       "      <td>...</td>\n",
       "      <td>...</td>\n",
       "      <td>...</td>\n",
       "    </tr>\n",
       "    <tr>\n",
       "      <th>763</th>\n",
       "      <td>10</td>\n",
       "      <td>101</td>\n",
       "      <td>76</td>\n",
       "      <td>48</td>\n",
       "      <td>180</td>\n",
       "      <td>32.9</td>\n",
       "      <td>0.171</td>\n",
       "      <td>63</td>\n",
       "      <td>0</td>\n",
       "    </tr>\n",
       "    <tr>\n",
       "      <th>764</th>\n",
       "      <td>2</td>\n",
       "      <td>122</td>\n",
       "      <td>70</td>\n",
       "      <td>27</td>\n",
       "      <td>0</td>\n",
       "      <td>36.8</td>\n",
       "      <td>0.340</td>\n",
       "      <td>27</td>\n",
       "      <td>0</td>\n",
       "    </tr>\n",
       "    <tr>\n",
       "      <th>765</th>\n",
       "      <td>5</td>\n",
       "      <td>121</td>\n",
       "      <td>72</td>\n",
       "      <td>23</td>\n",
       "      <td>112</td>\n",
       "      <td>26.2</td>\n",
       "      <td>0.245</td>\n",
       "      <td>30</td>\n",
       "      <td>0</td>\n",
       "    </tr>\n",
       "    <tr>\n",
       "      <th>766</th>\n",
       "      <td>1</td>\n",
       "      <td>126</td>\n",
       "      <td>60</td>\n",
       "      <td>0</td>\n",
       "      <td>0</td>\n",
       "      <td>30.1</td>\n",
       "      <td>0.349</td>\n",
       "      <td>47</td>\n",
       "      <td>1</td>\n",
       "    </tr>\n",
       "    <tr>\n",
       "      <th>767</th>\n",
       "      <td>1</td>\n",
       "      <td>93</td>\n",
       "      <td>70</td>\n",
       "      <td>31</td>\n",
       "      <td>0</td>\n",
       "      <td>30.4</td>\n",
       "      <td>0.315</td>\n",
       "      <td>23</td>\n",
       "      <td>0</td>\n",
       "    </tr>\n",
       "  </tbody>\n",
       "</table>\n",
       "<p>768 rows × 9 columns</p>\n",
       "</div>"
      ],
      "text/plain": [
       "     pregnancies  glucose  bloodpressure  skinthickness  insulin   bmi  \\\n",
       "0              6      148             72             35        0  33.6   \n",
       "1              1       85             66             29        0  26.6   \n",
       "2              8      183             64              0        0  23.3   \n",
       "3              1       89             66             23       94  28.1   \n",
       "4              0      137             40             35      168  43.1   \n",
       "..           ...      ...            ...            ...      ...   ...   \n",
       "763           10      101             76             48      180  32.9   \n",
       "764            2      122             70             27        0  36.8   \n",
       "765            5      121             72             23      112  26.2   \n",
       "766            1      126             60              0        0  30.1   \n",
       "767            1       93             70             31        0  30.4   \n",
       "\n",
       "     diabetespedigreefunction  age  label  \n",
       "0                       0.627   50      1  \n",
       "1                       0.351   31      0  \n",
       "2                       0.672   32      1  \n",
       "3                       0.167   21      0  \n",
       "4                       2.288   33      1  \n",
       "..                        ...  ...    ...  \n",
       "763                     0.171   63      0  \n",
       "764                     0.340   27      0  \n",
       "765                     0.245   30      0  \n",
       "766                     0.349   47      1  \n",
       "767                     0.315   23      0  \n",
       "\n",
       "[768 rows x 9 columns]"
      ]
     },
     "execution_count": 31,
     "metadata": {},
     "output_type": "execute_result"
    }
   ],
   "source": [
    "df = pd.read_csv('diabetes.csv')# Load your dataset\n",
    "df.rename(columns={'Outcome':'label'},inplace=True)\n",
    "df.columns = df.columns.str.lower()\n",
    "df"
   ]
  },
  {
   "cell_type": "code",
   "execution_count": 32,
   "id": "43daea88",
   "metadata": {},
   "outputs": [
    {
     "name": "stdout",
     "output_type": "stream",
     "text": [
      "DataFrame with New Features:\n",
      "     pregnancies  glucose  bloodpressure  skinthickness  insulin   bmi  \\\n",
      "0              6      148             72             35        0  33.6   \n",
      "1              1       85             66             29        0  26.6   \n",
      "2              8      183             64              0        0  23.3   \n",
      "3              1       89             66             23       94  28.1   \n",
      "4              0      137             40             35      168  43.1   \n",
      "..           ...      ...            ...            ...      ...   ...   \n",
      "763           10      101             76             48      180  32.9   \n",
      "764            2      122             70             27        0  36.8   \n",
      "765            5      121             72             23      112  26.2   \n",
      "766            1      126             60              0        0  30.1   \n",
      "767            1       93             70             31        0  30.4   \n",
      "\n",
      "     diabetespedigreefunction  age  label  insulin_sensitivity  \\\n",
      "0                       0.627   50      1                    0   \n",
      "1                       0.351   31      0                    0   \n",
      "2                       0.672   32      1                    0   \n",
      "3                       0.167   21      0                 8366   \n",
      "4                       2.288   33      1                23016   \n",
      "..                        ...  ...    ...                  ...   \n",
      "763                     0.171   63      0                18180   \n",
      "764                     0.340   27      0                    0   \n",
      "765                     0.245   30      0                13552   \n",
      "766                     0.349   47      1                    0   \n",
      "767                     0.315   23      0                    0   \n",
      "\n",
      "     glucose_bmi_product  \n",
      "0                 4972.8  \n",
      "1                 2261.0  \n",
      "2                 4263.9  \n",
      "3                 2500.9  \n",
      "4                 5904.7  \n",
      "..                   ...  \n",
      "763               3322.9  \n",
      "764               4489.6  \n",
      "765               3170.2  \n",
      "766               3792.6  \n",
      "767               2827.2  \n",
      "\n",
      "[768 rows x 11 columns]\n"
     ]
    }
   ],
   "source": [
    "# Create a feature for insulin sensitivity (insulin * glucose)\n",
    "df['insulin_sensitivity'] = df['insulin'] * df['glucose']\n",
    "\n",
    "# Create a feature representing the product of glucose and BMI\n",
    "df['glucose_bmi_product'] = df['glucose'] * df['bmi']\n",
    "\n",
    "# Display the DataFrame with the new features\n",
    "print(\"DataFrame with New Features:\")\n",
    "print(df)"
   ]
  },
  {
   "cell_type": "code",
   "execution_count": 33,
   "id": "6b3a4897",
   "metadata": {},
   "outputs": [
    {
     "name": "stdout",
     "output_type": "stream",
     "text": [
      "DataFrame without outliers (IQR method):\n",
      "     pregnancies  glucose  bloodpressure  skinthickness  insulin   bmi  \\\n",
      "0              6      148             72             35        0  33.6   \n",
      "1              1       85             66             29        0  26.6   \n",
      "2              8      183             64              0        0  23.3   \n",
      "3              1       89             66             23       94  28.1   \n",
      "5              5      116             74              0        0  25.6   \n",
      "..           ...      ...            ...            ...      ...   ...   \n",
      "763           10      101             76             48      180  32.9   \n",
      "764            2      122             70             27        0  36.8   \n",
      "765            5      121             72             23      112  26.2   \n",
      "766            1      126             60              0        0  30.1   \n",
      "767            1       93             70             31        0  30.4   \n",
      "\n",
      "     diabetespedigreefunction  age  label  insulin_sensitivity  \\\n",
      "0                       0.627   50      1                    0   \n",
      "1                       0.351   31      0                    0   \n",
      "2                       0.672   32      1                    0   \n",
      "3                       0.167   21      0                 8366   \n",
      "5                       0.201   30      0                    0   \n",
      "..                        ...  ...    ...                  ...   \n",
      "763                     0.171   63      0                18180   \n",
      "764                     0.340   27      0                    0   \n",
      "765                     0.245   30      0                13552   \n",
      "766                     0.349   47      1                    0   \n",
      "767                     0.315   23      0                    0   \n",
      "\n",
      "     glucose_bmi_product  \n",
      "0                 4972.8  \n",
      "1                 2261.0  \n",
      "2                 4263.9  \n",
      "3                 2500.9  \n",
      "5                 2969.6  \n",
      "..                   ...  \n",
      "763               3322.9  \n",
      "764               4489.6  \n",
      "765               3170.2  \n",
      "766               3792.6  \n",
      "767               2827.2  \n",
      "\n",
      "[617 rows x 11 columns]\n"
     ]
    }
   ],
   "source": [
    "# Calculate the IQR for each column\n",
    "Q1 = df.quantile(0.25)\n",
    "Q3 = df.quantile(0.75)\n",
    "IQR = Q3 - Q1\n",
    "\n",
    "# Identify and remove outliers based on IQR\n",
    "outliers_iqr = ((df < (Q1 - 1.5 * IQR)) | (df > (Q3 + 1.5 * IQR))).any(axis=1)\n",
    "df = df[~outliers_iqr]\n",
    "\n",
    "# Display the DataFrame without outliers using IQR\n",
    "print(\"DataFrame without outliers (IQR method):\")\n",
    "print(df)"
   ]
  },
  {
   "cell_type": "code",
   "execution_count": 56,
   "id": "127ba62b",
   "metadata": {},
   "outputs": [
    {
     "data": {
      "text/plain": [
       "((493, 10), (124, 10), (493,), (124,))"
      ]
     },
     "execution_count": 56,
     "metadata": {},
     "output_type": "execute_result"
    }
   ],
   "source": [
    "x = df.drop(columns=['label'])\n",
    "y = df['label']\n",
    "cols = x.columns\n",
    "index = x.index\n",
    "\n",
    "from sklearn.preprocessing import RobustScaler\n",
    "transformer = RobustScaler().fit(x)\n",
    "x = transformer.transform(x)\n",
    "x = pd.DataFrame(x, columns = cols, index = index)\n",
    "\n",
    "from sklearn.model_selection import train_test_split\n",
    "\n",
    "x_train, x_test, y_train, y_test = train_test_split(x, y, test_size=0.2, random_state=123)\n",
    "x_train.shape, x_test.shape, y_train.shape, y_test.shape"
   ]
  },
  {
   "cell_type": "code",
   "execution_count": 57,
   "id": "35d38566",
   "metadata": {},
   "outputs": [],
   "source": [
    "from imblearn.over_sampling import SMOTE\n",
    "from sklearn.model_selection import train_test_split\n",
    "\n",
    "# Assuming X and y are your feature and target variables\n",
    "#X_train, X_test, y_train, y_test = train_test_split(X, y, test_size=0.2, random_state=42)\n",
    "\n",
    "# Apply SMOTE to the training data only\n",
    "smote = SMOTE(random_state=123)\n",
    "x_resampled, y_resampled = smote.fit_resample(x_train, y_train)"
   ]
  },
  {
   "cell_type": "code",
   "execution_count": 58,
   "id": "43c0e382",
   "metadata": {},
   "outputs": [
    {
     "data": {
      "text/plain": [
       "{'criterion': 'gini',\n",
       " 'max_depth': 5,\n",
       " 'min_samples_leaf': 4,\n",
       " 'min_samples_split': 10}"
      ]
     },
     "execution_count": 58,
     "metadata": {},
     "output_type": "execute_result"
    }
   ],
   "source": [
    "from sklearn.model_selection import GridSearchCV\n",
    "from sklearn.tree import DecisionTreeClassifier\n",
    "\n",
    "# Decision Tree hyperparameter grid\n",
    "dt_param_grid = {\n",
    "    'criterion': ['gini', 'entropy'],\n",
    "    'max_depth': [None, 5, 10, 15],\n",
    "    'min_samples_split': [2, 5, 10],\n",
    "    'min_samples_leaf': [1, 2, 4, 8]\n",
    "}\n",
    "\n",
    "dt_grid_search = GridSearchCV(DecisionTreeClassifier(random_state=42), dt_param_grid, cv=5)\n",
    "dt_grid_search.fit(x_resampled, y_resampled)\n",
    "\n",
    "best_params_dt = dt_grid_search.best_params_\n",
    "best_params_dt"
   ]
  },
  {
   "cell_type": "code",
   "execution_count": 59,
   "id": "3e90fb61",
   "metadata": {},
   "outputs": [
    {
     "data": {
      "text/plain": [
       "array([0.02882066, 0.16113489, 0.01767599, 0.01311131, 0.        ,\n",
       "       0.05354172, 0.0621973 , 0.24544175, 0.        , 0.41807639])"
      ]
     },
     "execution_count": 59,
     "metadata": {},
     "output_type": "execute_result"
    }
   ],
   "source": [
    "from sklearn.tree import DecisionTreeClassifier\n",
    "\n",
    "dtc = DecisionTreeClassifier(criterion=best_params_dt['criterion'],max_depth=best_params_dt['max_depth'],min_samples_leaf=best_params_dt['min_samples_leaf'],min_samples_split=best_params_dt['min_samples_split'])\n",
    "dtc.fit(x_resampled, y_resampled)\n",
    "\n",
    "dtc.feature_importances_"
   ]
  },
  {
   "cell_type": "code",
   "execution_count": 60,
   "id": "0e208d22",
   "metadata": {},
   "outputs": [
    {
     "data": {
      "text/plain": [
       "0.7096774193548387"
      ]
     },
     "execution_count": 60,
     "metadata": {},
     "output_type": "execute_result"
    }
   ],
   "source": [
    "y_pred = dtc.predict(x_test)\n",
    "decision_tree_acc = accuracy_score(y_test, y_pred)\n",
    "decision_tree_acc"
   ]
  },
  {
   "cell_type": "code",
   "execution_count": 61,
   "id": "af480be0",
   "metadata": {},
   "outputs": [
    {
     "data": {
      "image/png": "[encoded data removed]",
      "text/plain": [
       "<Figure size 1000x700 with 1 Axes>"
      ]
     },
     "metadata": {},
     "output_type": "display_data"
    }
   ],
   "source": [
    "def plot_feature_importances_diabetes(model, feature_names):\n",
    "    n_features = len(feature_names)\n",
    "    \n",
    "    plt.figure(figsize=(10, 7))\n",
    "    plt.barh(range(n_features), model.feature_importances_, align='center')\n",
    "    plt.yticks(np.arange(n_features), feature_names)\n",
    "    plt.xlabel(\"Feature Importance\")\n",
    "    plt.ylabel(\"Feature\")\n",
    "    plt.title(\"Feature Importances for Diabetes Prediction\")\n",
    "    plt.show()\n",
    "\n",
    "# Example usage:\n",
    "# Replace 'diabetes_features' with the actual list of feature names in your dataset\n",
    "# Call the function with the model and feature names\n",
    "plot_feature_importances_diabetes(dtc, df.columns[:-1].tolist())"
   ]
  },
  {
   "cell_type": "code",
   "execution_count": 62,
   "id": "e7edf7d8",
   "metadata": {},
   "outputs": [
    {
     "data": {
      "text/plain": [
       "{'C': 10, 'gamma': 1, 'kernel': 'rbf'}"
      ]
     },
     "execution_count": 62,
     "metadata": {},
     "output_type": "execute_result"
    }
   ],
   "source": [
    "from sklearn.model_selection import GridSearchCV\n",
    "from sklearn.svm import SVC\n",
    "\n",
    "# SVC hyperparameter grid\n",
    "svc_param_grid = {\n",
    "    'C': [0.001, 0.01, 0.1, 1, 10],\n",
    "    'kernel': ['linear', 'rbf'],\n",
    "    'gamma': ['scale', 'auto', 0.001, 0.01, 0.1, 1]\n",
    "}\n",
    "\n",
    "svc_grid_search = GridSearchCV(SVC(random_state=42), svc_param_grid, cv=5)\n",
    "svc_grid_search.fit(x_resampled, y_resampled)\n",
    "\n",
    "best_params_svc = svc_grid_search.best_params_\n",
    "best_params_svc"
   ]
  },
  {
   "cell_type": "code",
   "execution_count": 63,
   "id": "3009b2be",
   "metadata": {},
   "outputs": [],
   "source": [
    "from sklearn.svm import SVC\n",
    "\n",
    "svc = SVC(C=best_params_svc['C'],gamma=best_params_svc['gamma'],kernel=best_params_svc['kernel'])"
   ]
  },
  {
   "cell_type": "code",
   "execution_count": 65,
   "id": "469f75f6",
   "metadata": {},
   "outputs": [
    {
     "data": {
      "text/plain": [
       "{'max_depth': None,\n",
       " 'max_features': 'sqrt',\n",
       " 'min_samples_leaf': 1,\n",
       " 'min_samples_split': 2,\n",
       " 'n_estimators': 50}"
      ]
     },
     "execution_count": 65,
     "metadata": {},
     "output_type": "execute_result"
    }
   ],
   "source": [
    "from sklearn.model_selection import GridSearchCV\n",
    "from sklearn.ensemble import RandomForestClassifier\n",
    "\n",
    "# Example for Random Forest hyperparameter tuning\n",
    "rf_param_grid = {\n",
    "    'n_estimators': [50, 100, 150],\n",
    "    'max_depth': [None, 5, 10],\n",
    "    'min_samples_split': [2, 5],\n",
    "    'min_samples_leaf': [1, 2, 4],\n",
    "    'max_features': ['sqrt', 'log2', None]\n",
    "}\n",
    "\n",
    "rf_grid_search = GridSearchCV(RandomForestClassifier(random_state=42), rf_param_grid, cv=5)\n",
    "rf_grid_search.fit(x_resampled, y_resampled)\n",
    "\n",
    "best_params_rf = rf_grid_search.best_params_\n",
    "best_params_rf"
   ]
  },
  {
   "cell_type": "code",
   "execution_count": 66,
   "id": "3619204b",
   "metadata": {},
   "outputs": [],
   "source": [
    "# Example: Adjusting the maximum depth of a decision tree\n",
    "model = RandomForestClassifier(max_depth=best_params_rf['max_depth'],max_features=best_params_rf['max_features'],min_samples_split=best_params_rf['min_samples_split'],min_samples_leaf=best_params_rf['min_samples_leaf'],n_estimators=best_params_rf['n_estimators'], random_state=42)"
   ]
  },
  {
   "cell_type": "code",
   "execution_count": 67,
   "id": "699188aa",
   "metadata": {},
   "outputs": [],
   "source": [
    "def train(classifier,x_train,y_train,x_test,y_test):\n",
    "    \n",
    "    classifier.fit(x_train,y_train)\n",
    "    prediction = classifier.predict(x_test)\n",
    "    cv = RepeatedStratifiedKFold(n_splits = 10,n_repeats = 3,random_state = 42)\n",
    "    print(\"Cross Validation Score : \",'{0:.2%}'.format(cross_val_score(classifier,x_train,y_train,cv = cv,scoring = 'roc_auc').mean()))\n",
    "    \n",
    "\n",
    "def model_evaluation(classifier,x_test,y_test):\n",
    "    \n",
    "    y_test_pred = classifier.predict(x_test)\n",
    "    y_train_pred = classifier.predict(x_resampled)\n",
    "    test_accuracy = accuracy_score(y_test, y_test_pred)\n",
    "    train_accuracy = accuracy_score(y_resampled, y_train_pred)\n",
    "\n",
    "    print(f\"Training Accuracy: {train_accuracy}\")\n",
    "    print(f\"Testing Accuracy: {test_accuracy}\\n\\n\")\n",
    "    \n",
    "    # Confusion Matrix\n",
    "    cm = confusion_matrix(y_test,classifier.predict(x_test))\n",
    "    names = ['True Neg','False Pos','False Neg','True Pos']\n",
    "    counts = [value for value in cm.flatten()]\n",
    "    percentages = ['{0:.2%}'.format(value) for value in cm.flatten()/np.sum(cm)]\n",
    "    labels = [f'{v1}\\n{v2}\\n{v3}' for v1, v2, v3 in zip(names,counts,percentages)]\n",
    "    labels = np.asarray(labels).reshape(2,2)\n",
    "    sns.heatmap(cm,annot = labels,cmap = 'Greens',fmt ='')\n",
    "    \n",
    "    # Classification Report\n",
    "    print(classification_report(y_test,classifier.predict(x_test)))"
   ]
  },
  {
   "cell_type": "code",
   "execution_count": 68,
   "id": "81b5c11b",
   "metadata": {},
   "outputs": [
    {
     "name": "stdout",
     "output_type": "stream",
     "text": [
      "Cross Validation Score :  95.14%\n",
      "Training Accuracy: 1.0\n",
      "Testing Accuracy: 0.6612903225806451\n",
      "\n",
      "\n",
      "              precision    recall  f1-score   support\n",
      "\n",
      "           0       0.70      0.82      0.76        80\n",
      "           1       0.53      0.36      0.43        44\n",
      "\n",
      "    accuracy                           0.66       124\n",
      "   macro avg       0.62      0.59      0.60       124\n",
      "weighted avg       0.64      0.66      0.64       124\n",
      "\n"
     ]
    },
    {
     "data": {
      "image/png": "[encoded data removed]",
      "text/plain": [
       "<Figure size 640x480 with 2 Axes>"
      ]
     },
     "metadata": {},
     "output_type": "display_data"
    }
   ],
   "source": [
    "# Training the model\n",
    "train(svc, x_resampled, y_resampled, x_test, y_test)\n",
    "\n",
    "# Evaluate the model\n",
    "model_evaluation(svc, x_test, y_test)"
   ]
  },
  {
   "cell_type": "code",
   "execution_count": 69,
   "id": "5131ad3f",
   "metadata": {},
   "outputs": [
    {
     "name": "stdout",
     "output_type": "stream",
     "text": [
      "Cross Validation Score :  92.84%\n",
      "Training Accuracy: 1.0\n",
      "Testing Accuracy: 0.7419354838709677\n",
      "\n",
      "\n",
      "              precision    recall  f1-score   support\n",
      "\n",
      "           0       0.81      0.79      0.80        80\n",
      "           1       0.63      0.66      0.64        44\n",
      "\n",
      "    accuracy                           0.74       124\n",
      "   macro avg       0.72      0.72      0.72       124\n",
      "weighted avg       0.74      0.74      0.74       124\n",
      "\n"
     ]
    },
    {
     "data": {
      "image/png": "[encoded data removed]",
      "text/plain": [
       "<Figure size 640x480 with 2 Axes>"
      ]
     },
     "metadata": {},
     "output_type": "display_data"
    }
   ],
   "source": [
    "# Training the model\n",
    "train(model, x_resampled, y_resampled, x_test, y_test)\n",
    "\n",
    "# Evaluate the model\n",
    "model_evaluation(model, x_test, y_test)"
   ]
  },
  {
   "cell_type": "code",
   "execution_count": 70,
   "id": "8b03922a",
   "metadata": {},
   "outputs": [
    {
     "name": "stdout",
     "output_type": "stream",
     "text": [
      "Cross Validation Score :  84.01%\n",
      "Training Accuracy: 0.8654390934844193\n",
      "Testing Accuracy: 0.7096774193548387\n",
      "\n",
      "\n",
      "              precision    recall  f1-score   support\n",
      "\n",
      "           0       0.79      0.75      0.77        80\n",
      "           1       0.58      0.64      0.61        44\n",
      "\n",
      "    accuracy                           0.71       124\n",
      "   macro avg       0.69      0.69      0.69       124\n",
      "weighted avg       0.72      0.71      0.71       124\n",
      "\n"
     ]
    },
    {
     "data": {
      "image/png": "[encoded data removed]",
      "text/plain": [
       "<Figure size 640x480 with 2 Axes>"
      ]
     },
     "metadata": {},
     "output_type": "display_data"
    }
   ],
   "source": [
    "# Training the model\n",
    "train(dtc, x_resampled, y_resampled, x_test, y_test)\n",
    "\n",
    "# Evaluate the model\n",
    "model_evaluation(dtc, x_test, y_test)"
   ]
  }
 ],
 "metadata": {
  "kernelspec": {
   "display_name": "Python 3 (ipykernel)",
   "language": "python",
   "name": "python3"
  },
  "language_info": {
   "codemirror_mode": {
    "name": "ipython",
    "version": 3
   },
   "file_extension": ".py",
   "mimetype": "text/x-python",
   "name": "python",
   "nbconvert_exporter": "python",
   "pygments_lexer": "ipython3",
   "version": "3.11.4"
  }
 },
 "nbformat": 4,
 "nbformat_minor": 5
}
